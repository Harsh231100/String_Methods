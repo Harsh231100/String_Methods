{
 "cells": [
  {
   "cell_type": "markdown",
   "id": "3f9bbe71",
   "metadata": {},
   "source": [
    "# Strings in Python"
   ]
  },
  {
   "cell_type": "markdown",
   "id": "f6b5f1b6",
   "metadata": {},
   "source": [
    "* String is the collection of the characters surrounded by single quotes, double quotes, or triple quotes.\n",
    "* It is an immutable data type, meaning that once you have created a string, you cannot change it."
   ]
  },
  {
   "cell_type": "code",
   "execution_count": 93,
   "id": "348af16d",
   "metadata": {},
   "outputs": [
    {
     "name": "stdout",
     "output_type": "stream",
     "text": [
      "python <class 'str'>\n"
     ]
    }
   ],
   "source": [
    "x = 'python'\n",
    "print(x, type(x))"
   ]
  },
  {
   "cell_type": "code",
   "execution_count": 94,
   "id": "7358df8d",
   "metadata": {},
   "outputs": [
    {
     "name": "stdout",
     "output_type": "stream",
     "text": [
      "['__add__', '__class__', '__contains__', '__delattr__', '__dir__', '__doc__', '__eq__', '__format__', '__ge__', '__getattribute__', '__getitem__', '__getnewargs__', '__getstate__', '__gt__', '__hash__', '__init__', '__init_subclass__', '__iter__', '__le__', '__len__', '__lt__', '__mod__', '__mul__', '__ne__', '__new__', '__reduce__', '__reduce_ex__', '__repr__', '__rmod__', '__rmul__', '__setattr__', '__sizeof__', '__str__', '__subclasshook__', 'capitalize', 'casefold', 'center', 'count', 'encode', 'endswith', 'expandtabs', 'find', 'format', 'format_map', 'index', 'isalnum', 'isalpha', 'isascii', 'isdecimal', 'isdigit', 'isidentifier', 'islower', 'isnumeric', 'isprintable', 'isspace', 'istitle', 'isupper', 'join', 'ljust', 'lower', 'lstrip', 'maketrans', 'partition', 'removeprefix', 'removesuffix', 'replace', 'rfind', 'rindex', 'rjust', 'rpartition', 'rsplit', 'rstrip', 'split', 'splitlines', 'startswith', 'strip', 'swapcase', 'title', 'translate', 'upper', 'zfill']\n"
     ]
    }
   ],
   "source": [
    "print(dir(x))"
   ]
  },
  {
   "cell_type": "markdown",
   "id": "480cc44b",
   "metadata": {},
   "source": [
    "# String Methods"
   ]
  },
  {
   "cell_type": "markdown",
   "id": "4407175e",
   "metadata": {},
   "source": [
    "## 1. capitalize()"
   ]
  },
  {
   "cell_type": "markdown",
   "id": "ab912a19",
   "metadata": {},
   "source": [
    "* The capitalize() method returns a string where the first character is upper case, and the rest is lower case."
   ]
  },
  {
   "cell_type": "markdown",
   "id": "131bd0d3",
   "metadata": {},
   "source": [
    "* Syntax : \n",
    "    * string.capitalize()\n",
    "* Parameter:  \n",
    "    * The capitalize() function does not takes any parameter. \n",
    "\n",
    "* Return: \n",
    "    * The capitalize() function returns a string with the first character in the capital."
   ]
  },
  {
   "cell_type": "markdown",
   "id": "671c4ca1",
   "metadata": {},
   "source": [
    "![](https://ipcisco.com/wp-content/uploads/2021/03/python-string-methods-capitalize-method.jpg)"
   ]
  },
  {
   "cell_type": "code",
   "execution_count": 3,
   "id": "ccd89870",
   "metadata": {
    "scrolled": true
   },
   "outputs": [
    {
     "name": "stdout",
     "output_type": "stream",
     "text": [
      "Help on method_descriptor:\n",
      "\n",
      "capitalize(self, /)\n",
      "    Return a capitalized version of the string.\n",
      "    \n",
      "    More specifically, make the first character have upper case and the rest lower\n",
      "    case.\n",
      "\n"
     ]
    }
   ],
   "source": [
    "help(str.capitalize)"
   ]
  },
  {
   "cell_type": "code",
   "execution_count": 2,
   "id": "dbc0e1c3",
   "metadata": {},
   "outputs": [
    {
     "name": "stdout",
     "output_type": "stream",
     "text": [
      "Python is a programming language\n"
     ]
    }
   ],
   "source": [
    "x = 'python is a programming language'\n",
    "\n",
    "y = x.capitalize()\n",
    "\n",
    "print(y)"
   ]
  },
  {
   "cell_type": "code",
   "execution_count": 4,
   "id": "cc1241ec",
   "metadata": {},
   "outputs": [
    {
     "name": "stdout",
     "output_type": "stream",
     "text": [
      "Data science\n"
     ]
    }
   ],
   "source": [
    "x = 'data science'\n",
    "\n",
    "y = x.capitalize()\n",
    "\n",
    "print(y)"
   ]
  },
  {
   "cell_type": "markdown",
   "id": "e54a1a15",
   "metadata": {},
   "source": [
    "## 2. casefold()"
   ]
  },
  {
   "cell_type": "markdown",
   "id": "d4c94dd2",
   "metadata": {},
   "source": [
    "* Python String casefold() method is used to convert string to lowercase. It is similar to the Python lower() string method, but the case removes all the case distinctions present in a string.\n"
   ]
  },
  {
   "cell_type": "markdown",
   "id": "229684a8",
   "metadata": {},
   "source": [
    "* Syntax: \n",
    "    * string.casefold()\n",
    "\n",
    "* Parameters: \n",
    "    * The casefold() method doesn’t take any parameters.\n",
    "\n",
    "* Return value: \n",
    "    * Returns the case folded string the string converted to lower case."
   ]
  },
  {
   "cell_type": "markdown",
   "id": "515d63d2",
   "metadata": {},
   "source": [
    "![](https://www.askpython.com/wp-content/uploads/2020/03/python_string_casefold.png)"
   ]
  },
  {
   "cell_type": "code",
   "execution_count": 5,
   "id": "3ddffce1",
   "metadata": {},
   "outputs": [
    {
     "name": "stdout",
     "output_type": "stream",
     "text": [
      "Help on method_descriptor:\n",
      "\n",
      "casefold(self, /)\n",
      "    Return a version of the string suitable for caseless comparisons.\n",
      "\n"
     ]
    }
   ],
   "source": [
    "help(str.casefold)"
   ]
  },
  {
   "cell_type": "code",
   "execution_count": 6,
   "id": "fbf3266f",
   "metadata": {},
   "outputs": [
    {
     "name": "stdout",
     "output_type": "stream",
     "text": [
      "strasse\n"
     ]
    }
   ],
   "source": [
    "x = 'Straße'  # German ss is ß\n",
    "\n",
    "y = x.casefold()\n",
    "\n",
    "print(y)"
   ]
  },
  {
   "cell_type": "markdown",
   "id": "4343dc99",
   "metadata": {},
   "source": [
    "## 3. center()"
   ]
  },
  {
   "cell_type": "markdown",
   "id": "d0a14e54",
   "metadata": {},
   "source": [
    "* Python String center() method creates and returns a new string that is padded with the specified character."
   ]
  },
  {
   "cell_type": "markdown",
   "id": "5f5edd43",
   "metadata": {},
   "source": [
    "* Syntax:  \n",
    "    * string.center(length[fillchar])\n",
    "\n",
    "* Parameters:\n",
    "\n",
    "    * length: length of the string after padding with the characters.\n",
    "    * fillchar: (optional) characters which need to be padded. If it’s not provided, space is taken as the default argument.\n",
    "* Returns: \n",
    "    * Returns a string padded with specified fillchar and it doesn’t modify the original string."
   ]
  },
  {
   "cell_type": "markdown",
   "id": "d68d5eea",
   "metadata": {},
   "source": [
    "![](https://www.scaler.com/topics/images/centerjava_thumbnail.webp)"
   ]
  },
  {
   "cell_type": "code",
   "execution_count": 7,
   "id": "be558894",
   "metadata": {},
   "outputs": [
    {
     "name": "stdout",
     "output_type": "stream",
     "text": [
      "Help on method_descriptor:\n",
      "\n",
      "center(self, width, fillchar=' ', /)\n",
      "    Return a centered string of length width.\n",
      "    \n",
      "    Padding is done using the specified fill character (default is a space).\n",
      "\n"
     ]
    }
   ],
   "source": [
    "help(str.center)"
   ]
  },
  {
   "cell_type": "code",
   "execution_count": 13,
   "id": "9e6cb988",
   "metadata": {},
   "outputs": [
    {
     "name": "stdout",
     "output_type": "stream",
     "text": [
      "       Python       \n"
     ]
    }
   ],
   "source": [
    "x = 'Python'\n",
    "\n",
    "y = x.center(20)\n",
    "\n",
    "print(y)"
   ]
  },
  {
   "cell_type": "code",
   "execution_count": 12,
   "id": "9d7689ed",
   "metadata": {},
   "outputs": [
    {
     "name": "stdout",
     "output_type": "stream",
     "text": [
      "*******Python*******\n"
     ]
    }
   ],
   "source": [
    "x = 'Python'\n",
    "\n",
    "y = x.center(20,'*')\n",
    "\n",
    "print(y)"
   ]
  },
  {
   "cell_type": "markdown",
   "id": "90a35080",
   "metadata": {},
   "source": [
    "## 4. count()"
   ]
  },
  {
   "cell_type": "markdown",
   "id": "7e442884",
   "metadata": {},
   "source": [
    "* Python String count() method is an inbuilt function in Python programming language that returns the number of occurrences of a substring in the given string."
   ]
  },
  {
   "cell_type": "markdown",
   "id": "195c3ee7",
   "metadata": {},
   "source": [
    "* Syntax:\n",
    "    * string.count(substring, start= …., end= ….)\n",
    "\n",
    "* Parameters: \n",
    "\n",
    "    * substring – string whose count is to be found.\n",
    " \n",
    "    * start (Optional) – starting index within the string where the search starts. \n",
    "    * end (Optional) – ending index within the string where the search ends.\n",
    "* Return Value: \n",
    "    * count() method returns an integer that denotes the number of times a substring occurs in a given string. "
   ]
  },
  {
   "cell_type": "markdown",
   "id": "33f02e79",
   "metadata": {},
   "source": [
    "![](https://www.tutlane.com/images/python/python_string_count_method.png)"
   ]
  },
  {
   "cell_type": "code",
   "execution_count": 14,
   "id": "4b5dba3d",
   "metadata": {
    "scrolled": true
   },
   "outputs": [
    {
     "name": "stdout",
     "output_type": "stream",
     "text": [
      "Help on method_descriptor:\n",
      "\n",
      "count(...)\n",
      "    S.count(sub[, start[, end]]) -> int\n",
      "    \n",
      "    Return the number of non-overlapping occurrences of substring sub in\n",
      "    string S[start:end].  Optional arguments start and end are\n",
      "    interpreted as in slice notation.\n",
      "\n"
     ]
    }
   ],
   "source": [
    "help(str.count)"
   ]
  },
  {
   "cell_type": "code",
   "execution_count": 16,
   "id": "ea4ab686",
   "metadata": {},
   "outputs": [
    {
     "name": "stdout",
     "output_type": "stream",
     "text": [
      "9\n"
     ]
    }
   ],
   "source": [
    "x = 'I have got a date at a quarter to eight; I’ll see you at the gate, so don’t be late.'\n",
    "\n",
    "y = x.count('a')\n",
    "\n",
    "print(y)"
   ]
  },
  {
   "cell_type": "markdown",
   "id": "1502afc9",
   "metadata": {},
   "source": [
    "## 5. encode()"
   ]
  },
  {
   "cell_type": "markdown",
   "id": "bcdb941d",
   "metadata": {},
   "source": [
    "* Python String encode() converts a string value into a collection of bytes, using an encoding scheme specified by the user."
   ]
  },
  {
   "cell_type": "markdown",
   "id": "a8e24d39",
   "metadata": {},
   "source": [
    "* Syntax:\n",
    "    * encode(encoding, errors)\n",
    "\n",
    "* Parameters: \n",
    "\n",
    "    * encoding: Specifies the encoding on the basis of which encoding has to be performed. \n",
    "    * errors: Decides how to handle the errors if they occur, e.g ‘strict’ raises Unicode error in case of exception and ‘ignore’ ignores the errors that occurred. There are six types of error response\n",
    "        * strict – default response which raises a UnicodeDecodeError exception on failure\n",
    "        * ignore – ignores the unencodable unicode from the result\n",
    "        * replace – replaces the unencodable unicode to a question mark ?\n",
    "        * xmlcharrefreplace – inserts XML character reference instead of unencodable unicode\n",
    "        * backslashreplace – inserts a \\uNNNN escape sequence instead of unencodable unicode\n",
    "        * namereplace – inserts a \\N{…} escape sequence instead of unencodable unicode\n",
    "* Return:  \n",
    "    * Returns the string in the encoded form."
   ]
  },
  {
   "cell_type": "markdown",
   "id": "61f026f9",
   "metadata": {},
   "source": [
    "![](https://www.tutlane.com/images/python/python_string_encode_method.png)"
   ]
  },
  {
   "cell_type": "code",
   "execution_count": 18,
   "id": "b1bc907d",
   "metadata": {
    "scrolled": true
   },
   "outputs": [
    {
     "name": "stdout",
     "output_type": "stream",
     "text": [
      "Help on method_descriptor:\n",
      "\n",
      "encode(self, /, encoding='utf-8', errors='strict')\n",
      "    Encode the string using the codec registered for encoding.\n",
      "    \n",
      "    encoding\n",
      "      The encoding in which to encode the string.\n",
      "    errors\n",
      "      The error handling scheme to use for encoding errors.\n",
      "      The default is 'strict' meaning that encoding errors raise a\n",
      "      UnicodeEncodeError.  Other possible values are 'ignore', 'replace' and\n",
      "      'xmlcharrefreplace' as well as any other name registered with\n",
      "      codecs.register_error that can handle UnicodeEncodeErrors.\n",
      "\n"
     ]
    }
   ],
   "source": [
    "help(str.encode)"
   ]
  },
  {
   "cell_type": "code",
   "execution_count": 19,
   "id": "1b72ffcd",
   "metadata": {},
   "outputs": [
    {
     "name": "stdout",
     "output_type": "stream",
     "text": [
      "b'python is a programming language'\n"
     ]
    }
   ],
   "source": [
    "x = 'python is a programming language'\n",
    "\n",
    "y = x.encode()\n",
    "\n",
    "print(y)"
   ]
  },
  {
   "cell_type": "code",
   "execution_count": 20,
   "id": "a4cbaaf0",
   "metadata": {},
   "outputs": [
    {
     "name": "stdout",
     "output_type": "stream",
     "text": [
      "b'My name is St\\xc3\\xa5le'\n"
     ]
    }
   ],
   "source": [
    "x = \"My name is Ståle\"\n",
    "\n",
    "y = x.encode()\n",
    "\n",
    "print(y)"
   ]
  },
  {
   "cell_type": "markdown",
   "id": "84713494",
   "metadata": {},
   "source": [
    "## 6. endswith()"
   ]
  },
  {
   "cell_type": "markdown",
   "id": "011af75b",
   "metadata": {},
   "source": [
    "* Python String endswith() method returns True if a string ends with the given suffix, otherwise returns False."
   ]
  },
  {
   "cell_type": "markdown",
   "id": "ca66e235",
   "metadata": {},
   "source": [
    "* Syntax: \n",
    "    * str.endswith(suffix, start, end)\n",
    "\n",
    "* Parameters: \n",
    "\n",
    "    * suffix: Suffix is nothing but a string that needs to be checked. \n",
    "    * start: Starting position from where suffix is needed to be checked within the string. \n",
    "    * end: Ending position + 1 from where suffix is needed to be checked within the string.\n",
    "* Return:\n",
    "    * ReturnsTrue if the string ends with the given suffix otherwise return False."
   ]
  },
  {
   "cell_type": "markdown",
   "id": "b32fd843",
   "metadata": {},
   "source": [
    "![](https://ipcisco.com/wp-content/uploads/2021/03/python-string-methods-endswith-method.jpg)"
   ]
  },
  {
   "cell_type": "code",
   "execution_count": 21,
   "id": "50bf467d",
   "metadata": {
    "scrolled": true
   },
   "outputs": [
    {
     "name": "stdout",
     "output_type": "stream",
     "text": [
      "Help on method_descriptor:\n",
      "\n",
      "endswith(...)\n",
      "    S.endswith(suffix[, start[, end]]) -> bool\n",
      "    \n",
      "    Return True if S ends with the specified suffix, False otherwise.\n",
      "    With optional start, test S beginning at that position.\n",
      "    With optional end, stop comparing S at that position.\n",
      "    suffix can also be a tuple of strings to try.\n",
      "\n"
     ]
    }
   ],
   "source": [
    "help(str.endswith)"
   ]
  },
  {
   "cell_type": "code",
   "execution_count": 22,
   "id": "5f0269b2",
   "metadata": {},
   "outputs": [
    {
     "name": "stdout",
     "output_type": "stream",
     "text": [
      "True\n"
     ]
    }
   ],
   "source": [
    "x = \"Hello, welcome to my world.\"\n",
    "\n",
    "y = x.endswith(\".\")\n",
    "\n",
    "print(y)"
   ]
  },
  {
   "cell_type": "code",
   "execution_count": 23,
   "id": "776e59e3",
   "metadata": {},
   "outputs": [
    {
     "name": "stdout",
     "output_type": "stream",
     "text": [
      "False\n"
     ]
    }
   ],
   "source": [
    "x = \"Hello, welcome to my world.\"\n",
    "\n",
    "y = x.endswith(\"world\")\n",
    "\n",
    "print(y)"
   ]
  },
  {
   "cell_type": "markdown",
   "id": "c2c8815f",
   "metadata": {},
   "source": [
    "## 7. expandtabs()"
   ]
  },
  {
   "cell_type": "markdown",
   "id": "8b3af9fc",
   "metadata": {},
   "source": [
    "* Python String expandtabs() Method specifies the amount of space to be substituted with the “\\t” symbol in the string."
   ]
  },
  {
   "cell_type": "markdown",
   "id": "00149548",
   "metadata": {},
   "source": [
    "* Syntax : \n",
    "    * expandtabs(space_size)\n",
    "\n",
    "* Parameters\n",
    "\n",
    "    * tabsize : Specifies the space that is to be replaced with the “\\t” symbol in the string. By default the space is 8.\n",
    "* Return :\n",
    "    * Returns the modified string with tabs replaced by the space."
   ]
  },
  {
   "cell_type": "markdown",
   "id": "0eedaf11",
   "metadata": {},
   "source": [
    "![](data:image/png;base64,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)"
   ]
  },
  {
   "cell_type": "code",
   "execution_count": 24,
   "id": "edd9f751",
   "metadata": {},
   "outputs": [
    {
     "name": "stdout",
     "output_type": "stream",
     "text": [
      "Help on method_descriptor:\n",
      "\n",
      "expandtabs(self, /, tabsize=8)\n",
      "    Return a copy where all tab characters are expanded using spaces.\n",
      "    \n",
      "    If tabsize is not given, a tab size of 8 characters is assumed.\n",
      "\n"
     ]
    }
   ],
   "source": [
    "help(str.expandtabs)"
   ]
  },
  {
   "cell_type": "code",
   "execution_count": 26,
   "id": "14f7dab5",
   "metadata": {},
   "outputs": [
    {
     "name": "stdout",
     "output_type": "stream",
     "text": [
      "H e l l o\n"
     ]
    }
   ],
   "source": [
    "x = \"H\\te\\tl\\tl\\to\"\n",
    "\n",
    "y = x.expandtabs(2)\n",
    "\n",
    "print(y)"
   ]
  },
  {
   "cell_type": "code",
   "execution_count": 28,
   "id": "7f01f0e4",
   "metadata": {},
   "outputs": [
    {
     "name": "stdout",
     "output_type": "stream",
     "text": [
      "H        e        l        l        o\n"
     ]
    }
   ],
   "source": [
    "x = \"H\\te\\tl\\tl\\to\"\n",
    "\n",
    "y = x.expandtabs(9)\n",
    "\n",
    "print(y)"
   ]
  },
  {
   "cell_type": "markdown",
   "id": "69f78354",
   "metadata": {},
   "source": [
    "## 8. find()\n"
   ]
  },
  {
   "cell_type": "markdown",
   "id": "d0eb01f4",
   "metadata": {},
   "source": [
    "* The find() method finds the first occurrence of the specified value.\n",
    "\n",
    "* The find() method returns -1 if the value is not found.\n",
    "\n",
    "* The find() method is almost the same as the index() method, the only difference is that the index() method raises an exception if the value is not found."
   ]
  },
  {
   "cell_type": "markdown",
   "id": "32b52bd9",
   "metadata": {},
   "source": [
    "* Syntax: \n",
    "    * str.find(sub, start, end)\n",
    "\n",
    "* Parameters: \n",
    "\n",
    "    * sub: Substring that needs to be searched in the given string. \n",
    "    * start (optional): Starting position where the substring needs to be checked within the string. \n",
    "    * end (optional): End position is the index of the last value for the specified range. It is excluded while checking.\n",
    "    \n",
    "* Return:\n",
    "\n",
    "    * Returns the lowest index of the substring if it is found in a given string. If it’s not found then it returns -1."
   ]
  },
  {
   "cell_type": "markdown",
   "id": "f60ba229",
   "metadata": {},
   "source": [
    "![](https://www.programiz.com/sites/tutorial2program/files/string-find-rfind_0.png)"
   ]
  },
  {
   "cell_type": "code",
   "execution_count": 29,
   "id": "db3a87df",
   "metadata": {},
   "outputs": [
    {
     "name": "stdout",
     "output_type": "stream",
     "text": [
      "Help on method_descriptor:\n",
      "\n",
      "find(...)\n",
      "    S.find(sub[, start[, end]]) -> int\n",
      "    \n",
      "    Return the lowest index in S where substring sub is found,\n",
      "    such that sub is contained within S[start:end].  Optional\n",
      "    arguments start and end are interpreted as in slice notation.\n",
      "    \n",
      "    Return -1 on failure.\n",
      "\n"
     ]
    }
   ],
   "source": [
    "help(str.find)"
   ]
  },
  {
   "cell_type": "code",
   "execution_count": 30,
   "id": "ebae537f",
   "metadata": {},
   "outputs": [
    {
     "name": "stdout",
     "output_type": "stream",
     "text": [
      "3\n"
     ]
    }
   ],
   "source": [
    "x = 'I have got a date at a quarter to eight; I’ll see you at the gate, so don’t be late.'\n",
    "\n",
    "y = x.find('a')\n",
    "\n",
    "print(y)"
   ]
  },
  {
   "cell_type": "code",
   "execution_count": 36,
   "id": "963687c9",
   "metadata": {},
   "outputs": [
    {
     "name": "stdout",
     "output_type": "stream",
     "text": [
      "-1\n"
     ]
    }
   ],
   "source": [
    "y = x.find('a',26,30)\n",
    "\n",
    "print(y)"
   ]
  },
  {
   "cell_type": "code",
   "execution_count": 45,
   "id": "27a9322e",
   "metadata": {},
   "outputs": [
    {
     "name": "stdout",
     "output_type": "stream",
     "text": [
      "12\n"
     ]
    }
   ],
   "source": [
    " x = 'python is a programming language'\n",
    "\n",
    "print(x.find('programming'))"
   ]
  },
  {
   "cell_type": "code",
   "execution_count": 47,
   "id": "91b9463e",
   "metadata": {},
   "outputs": [
    {
     "name": "stdout",
     "output_type": "stream",
     "text": [
      "-1\n"
     ]
    }
   ],
   "source": [
    "x = 'python is a programming language'\n",
    "\n",
    "print(x.find('z'))"
   ]
  },
  {
   "cell_type": "markdown",
   "id": "f59a4289",
   "metadata": {},
   "source": [
    "## 9. format()"
   ]
  },
  {
   "cell_type": "markdown",
   "id": "bb3b5716",
   "metadata": {},
   "source": [
    "* The format() method is a powerful tool that allows developers to create formatted strings by embedding variables and values into placeholders within a template string. \n",
    "\n",
    "* This method offers a flexible and versatile way to construct textual output for a wide range of applications. \n",
    "\n",
    "* Python string format() function has been introduced for handling complex string formatting more efficiently. Sometimes we want to make generalized print statements in that case instead of writing print statements every time we use the concept of formatting."
   ]
  },
  {
   "cell_type": "markdown",
   "id": "859db261",
   "metadata": {},
   "source": [
    "* Syntax: \n",
    "    * { }.format(value)\n",
    "\n",
    "* Parameters: \n",
    "\n",
    "    * value : Can be an integer, floating point numeric constant, string, characters or even variables.\n",
    "* Returntype: \n",
    "    * Returns a formatted string with the value passed as parameter in the placeholder position. \n",
    "\n"
   ]
  },
  {
   "cell_type": "markdown",
   "id": "10641c9a",
   "metadata": {},
   "source": [
    "![](https://www.tutlane.com/images/python/python_string_format_method.png)"
   ]
  },
  {
   "cell_type": "code",
   "execution_count": 2,
   "id": "9e9437a0",
   "metadata": {},
   "outputs": [
    {
     "name": "stdout",
     "output_type": "stream",
     "text": [
      "Help on method_descriptor:\n",
      "\n",
      "format(...)\n",
      "    S.format(*args, **kwargs) -> str\n",
      "    \n",
      "    Return a formatted version of S, using substitutions from args and kwargs.\n",
      "    The substitutions are identified by braces ('{' and '}').\n",
      "\n"
     ]
    }
   ],
   "source": [
    "help(str.format)"
   ]
  },
  {
   "cell_type": "code",
   "execution_count": 2,
   "id": "1087ee97",
   "metadata": {},
   "outputs": [
    {
     "name": "stdout",
     "output_type": "stream",
     "text": [
      "my name is harsh\n"
     ]
    }
   ],
   "source": [
    "x = 'harsh'\n",
    "\n",
    "print(f'my name is {x}')"
   ]
  },
  {
   "cell_type": "markdown",
   "id": "85d524b7",
   "metadata": {},
   "source": [
    "## 10. format_map()"
   ]
  },
  {
   "cell_type": "markdown",
   "id": "15a051af",
   "metadata": {},
   "source": [
    "* Python String format_map() method is an inbuilt function in Python, which is used to return a dictionary key’s value."
   ]
  },
  {
   "cell_type": "markdown",
   "id": "778c5756",
   "metadata": {},
   "source": [
    "* Syntax: \n",
    "\n",
    "    * string.format_map(z)\n",
    "\n",
    "* Parameters: \n",
    "    * Here z is a variable in which the input dictionary is stored and string is the key of the input dictionary. input_dict: Takes a single parameter which is the input dictionary.\n",
    "\n",
    "* Returns: \n",
    "\n",
    "    * Returns key’s values of the input dictionary.\n"
   ]
  },
  {
   "cell_type": "markdown",
   "id": "c03a5cb1",
   "metadata": {},
   "source": [
    "![](https://res.cloudinary.com/practicaldev/image/fetch/s--S_-WagGT--/c_imagga_scale,f_auto,fl_progressive,h_900,q_auto,w_1600/https://dev-to-uploads.s3.amazonaws.com/i/2pb0bys42zgr1l6cawvn.png)"
   ]
  },
  {
   "cell_type": "code",
   "execution_count": 3,
   "id": "331a47cb",
   "metadata": {},
   "outputs": [
    {
     "name": "stdout",
     "output_type": "stream",
     "text": [
      "Help on method_descriptor:\n",
      "\n",
      "format_map(...)\n",
      "    S.format_map(mapping) -> str\n",
      "    \n",
      "    Return a formatted version of S, using substitutions from mapping.\n",
      "    The substitutions are identified by braces ('{' and '}').\n",
      "\n"
     ]
    }
   ],
   "source": [
    "help(str.format_map)"
   ]
  },
  {
   "cell_type": "code",
   "execution_count": 6,
   "id": "04d6294d",
   "metadata": {},
   "outputs": [
    {
     "name": "stdout",
     "output_type": "stream",
     "text": [
      "my name is harshit shrivastava\n"
     ]
    }
   ],
   "source": [
    "a = {'x':'harshit', 'y':'shrivastava'} \n",
    "\n",
    "print(\"my name is {x} {y}\".format_map(a))"
   ]
  },
  {
   "cell_type": "markdown",
   "id": "9ba2dcdd",
   "metadata": {},
   "source": [
    "## 11. index()"
   ]
  },
  {
   "cell_type": "markdown",
   "id": "70c467e7",
   "metadata": {},
   "source": [
    "* The index() method finds the first occurrence of the specified value.\n",
    "\n",
    "* The index() method raises an exception if the value is not found.\n",
    "\n",
    "* The index() method is almost the same as the find() method, the only difference is that the find() method returns -1 if the value is not found."
   ]
  },
  {
   "cell_type": "markdown",
   "id": "5dc78abc",
   "metadata": {},
   "source": [
    "* Syntax:  \n",
    "    * string_obj.index(substring, start, end)\n",
    "\n",
    "* Parameters: \n",
    "\n",
    "    * substring: The string to be searched for.\n",
    "    * start (default : 0) : This function specifies the position from where the search has to be started. \n",
    "    * end (default: length of string): This function specifies the position from where the search has to end.\n",
    "* Return:\n",
    "    * Returns the first position of the substring found."
   ]
  },
  {
   "cell_type": "markdown",
   "id": "825e546c",
   "metadata": {},
   "source": [
    "![](https://www.tutlane.com/images/python/python_string_index_method.png)"
   ]
  },
  {
   "cell_type": "code",
   "execution_count": 40,
   "id": "e5225f02",
   "metadata": {},
   "outputs": [
    {
     "name": "stdout",
     "output_type": "stream",
     "text": [
      "Help on method_descriptor:\n",
      "\n",
      "index(...)\n",
      "    S.index(sub[, start[, end]]) -> int\n",
      "    \n",
      "    Return the lowest index in S where substring sub is found,\n",
      "    such that sub is contained within S[start:end].  Optional\n",
      "    arguments start and end are interpreted as in slice notation.\n",
      "    \n",
      "    Raises ValueError when the substring is not found.\n",
      "\n"
     ]
    }
   ],
   "source": [
    "help(str.index)"
   ]
  },
  {
   "cell_type": "code",
   "execution_count": 41,
   "id": "cd889f40",
   "metadata": {},
   "outputs": [
    {
     "name": "stdout",
     "output_type": "stream",
     "text": [
      "12\n"
     ]
    }
   ],
   "source": [
    "x = 'python is a programming language'\n",
    "\n",
    "print(x.index('programming'))"
   ]
  },
  {
   "cell_type": "code",
   "execution_count": 44,
   "id": "74f32c01",
   "metadata": {},
   "outputs": [],
   "source": [
    "x = 'python is a programming language'\n",
    "\n",
    "# print(x.index('z'))  # uncomment to see the error.."
   ]
  },
  {
   "cell_type": "markdown",
   "id": "b2e3c5d1",
   "metadata": {},
   "source": [
    "## 12. isalnum()"
   ]
  },
  {
   "cell_type": "markdown",
   "id": "29ce96ff",
   "metadata": {},
   "source": [
    "* Python String isalnum() method checks whether all the characters in a given string are either alphabet or numeric (alphanumeric) characters."
   ]
  },
  {
   "cell_type": "markdown",
   "id": "d50a4e32",
   "metadata": {},
   "source": [
    "* Syntax: \n",
    "    * string_name.isalnum() \n",
    "\n",
    "* Parameter: \n",
    "    * isalnum() method takes no parameters \n",
    "\n",
    "* Return:\n",
    "    * True: If all the characters are alphanumeric \n",
    "    * False: If one or more characters are not alphanumeric "
   ]
  },
  {
   "cell_type": "markdown",
   "id": "53d710e1",
   "metadata": {},
   "source": [
    "![](data:image/png;base64,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)"
   ]
  },
  {
   "cell_type": "code",
   "execution_count": 51,
   "id": "332c0541",
   "metadata": {},
   "outputs": [
    {
     "name": "stdout",
     "output_type": "stream",
     "text": [
      "Help on method_descriptor:\n",
      "\n",
      "isalnum(self, /)\n",
      "    Return True if the string is an alpha-numeric string, False otherwise.\n",
      "    \n",
      "    A string is alpha-numeric if all characters in the string are alpha-numeric and\n",
      "    there is at least one character in the string.\n",
      "\n"
     ]
    }
   ],
   "source": [
    "help(str.isalnum)"
   ]
  },
  {
   "cell_type": "code",
   "execution_count": 52,
   "id": "3e48f177",
   "metadata": {},
   "outputs": [
    {
     "name": "stdout",
     "output_type": "stream",
     "text": [
      "True\n"
     ]
    }
   ],
   "source": [
    "x = \"Harsh2311\"\n",
    "\n",
    "y = x.isalnum()\n",
    "\n",
    "print(y)"
   ]
  },
  {
   "cell_type": "code",
   "execution_count": 53,
   "id": "efede699",
   "metadata": {},
   "outputs": [
    {
     "name": "stdout",
     "output_type": "stream",
     "text": [
      "False\n"
     ]
    }
   ],
   "source": [
    "x = \"Harsh@2311@\"\n",
    "\n",
    "y = x.isalnum()\n",
    "\n",
    "print(y)"
   ]
  },
  {
   "cell_type": "markdown",
   "id": "d600c27f",
   "metadata": {},
   "source": [
    "## 13. isalpha()"
   ]
  },
  {
   "cell_type": "markdown",
   "id": "0528c1b1",
   "metadata": {},
   "source": [
    "* Python String isalpha() method is used to check whether all characters in the String are an alphabet.\n"
   ]
  },
  {
   "cell_type": "markdown",
   "id": "119b6aa3",
   "metadata": {},
   "source": [
    "* Syntax: \n",
    "    * string.isalpha()\n",
    "\n",
    "* Parameters:\n",
    "    * isalpha() does not take any parameters\n",
    "\n",
    "* Returns:\n",
    "    * True: If all characters in the string are alphabet.\n",
    "    * False: If the string contains 1 or more non-alphabets"
   ]
  },
  {
   "cell_type": "markdown",
   "id": "d0545e80",
   "metadata": {},
   "source": [
    "![](https://www.w3resource.com/w3r_images/numpy-string-operations-isalpha-function-image-1.png)"
   ]
  },
  {
   "cell_type": "code",
   "execution_count": 54,
   "id": "0be89bff",
   "metadata": {},
   "outputs": [
    {
     "name": "stdout",
     "output_type": "stream",
     "text": [
      "Help on method_descriptor:\n",
      "\n",
      "isalpha(self, /)\n",
      "    Return True if the string is an alphabetic string, False otherwise.\n",
      "    \n",
      "    A string is alphabetic if all characters in the string are alphabetic and there\n",
      "    is at least one character in the string.\n",
      "\n"
     ]
    }
   ],
   "source": [
    "help(str.isalpha)"
   ]
  },
  {
   "cell_type": "code",
   "execution_count": 55,
   "id": "c5e28498",
   "metadata": {},
   "outputs": [
    {
     "name": "stdout",
     "output_type": "stream",
     "text": [
      "True\n"
     ]
    }
   ],
   "source": [
    "x = \"Python\"\n",
    "\n",
    "y = x.isalpha()\n",
    "\n",
    "print(y)"
   ]
  },
  {
   "cell_type": "code",
   "execution_count": 56,
   "id": "e76aab93",
   "metadata": {},
   "outputs": [
    {
     "name": "stdout",
     "output_type": "stream",
     "text": [
      "False\n"
     ]
    }
   ],
   "source": [
    "x = \"Python12345\"\n",
    "\n",
    "y = x.isalpha()\n",
    "\n",
    "print(y)"
   ]
  },
  {
   "cell_type": "markdown",
   "id": "c179286d",
   "metadata": {},
   "source": [
    "## 14. isascii()"
   ]
  },
  {
   "cell_type": "markdown",
   "id": "818f70fe",
   "metadata": {},
   "source": [
    "* The isascii() method returns True if all the characters are ascii characters (a-z)."
   ]
  },
  {
   "cell_type": "markdown",
   "id": "9f6cfa76",
   "metadata": {},
   "source": [
    "* Syntax :\n",
    "    * string.isascii()"
   ]
  },
  {
   "cell_type": "markdown",
   "id": "c6c5b24e",
   "metadata": {},
   "source": [
    "![](https://i0.wp.com/pythonguides.com/wp-content/uploads/2023/08/Isascii-method-in-string-python-with-True-return-value.jpg)"
   ]
  },
  {
   "cell_type": "code",
   "execution_count": 57,
   "id": "a18d41a8",
   "metadata": {},
   "outputs": [
    {
     "name": "stdout",
     "output_type": "stream",
     "text": [
      "Help on method_descriptor:\n",
      "\n",
      "isascii(self, /)\n",
      "    Return True if all characters in the string are ASCII, False otherwise.\n",
      "    \n",
      "    ASCII characters have code points in the range U+0000-U+007F.\n",
      "    Empty string is ASCII too.\n",
      "\n"
     ]
    }
   ],
   "source": [
    "help(str.isascii)"
   ]
  },
  {
   "cell_type": "code",
   "execution_count": 58,
   "id": "c9652d28",
   "metadata": {},
   "outputs": [
    {
     "name": "stdout",
     "output_type": "stream",
     "text": [
      "True\n"
     ]
    }
   ],
   "source": [
    "x = \"Python\"\n",
    "\n",
    "y = x.isascii()\n",
    "\n",
    "print(y)"
   ]
  },
  {
   "cell_type": "code",
   "execution_count": 59,
   "id": "50c469c8",
   "metadata": {},
   "outputs": [
    {
     "name": "stdout",
     "output_type": "stream",
     "text": [
      "True\n"
     ]
    }
   ],
   "source": [
    "x = \"Python,@13.24\"\n",
    "\n",
    "y = x.isascii()\n",
    "\n",
    "print(y)"
   ]
  },
  {
   "cell_type": "markdown",
   "id": "82788d17",
   "metadata": {},
   "source": [
    "## 15. isdecimal()"
   ]
  },
  {
   "cell_type": "markdown",
   "id": "c812ad79",
   "metadata": {},
   "source": [
    "* Python String isdecimal() function returns true if all characters in a string are decimal, else it returns False."
   ]
  },
  {
   "cell_type": "markdown",
   "id": "5b6822d1",
   "metadata": {},
   "source": [
    "* Syntax: \n",
    "    * string_name.isdecimal()\n",
    "\n",
    "* Parameters: \n",
    "    * This method does not takes any parameters .\n",
    "\n",
    "* Return:\n",
    "    * boolean value. True – all characters are decimal, False – one or more than one character is not decimal.\n",
    "\n"
   ]
  },
  {
   "cell_type": "markdown",
   "id": "af56dbeb",
   "metadata": {},
   "source": [
    "![](https://www.askpython.com/wp-content/uploads/2020/02/String-isdecimal-Method-in-Python.png)"
   ]
  },
  {
   "cell_type": "code",
   "execution_count": 60,
   "id": "b55dd03a",
   "metadata": {},
   "outputs": [
    {
     "name": "stdout",
     "output_type": "stream",
     "text": [
      "Help on method_descriptor:\n",
      "\n",
      "isdecimal(self, /)\n",
      "    Return True if the string is a decimal string, False otherwise.\n",
      "    \n",
      "    A string is a decimal string if all characters in the string are decimal and\n",
      "    there is at least one character in the string.\n",
      "\n"
     ]
    }
   ],
   "source": [
    "help(str.isdecimal)"
   ]
  },
  {
   "cell_type": "code",
   "execution_count": 61,
   "id": "e802c863",
   "metadata": {},
   "outputs": [
    {
     "name": "stdout",
     "output_type": "stream",
     "text": [
      "True\n"
     ]
    }
   ],
   "source": [
    "x = \"123456789\"\n",
    "\n",
    "y = x.isdecimal()\n",
    "\n",
    "print(y)"
   ]
  },
  {
   "cell_type": "code",
   "execution_count": 62,
   "id": "59b526af",
   "metadata": {},
   "outputs": [
    {
     "name": "stdout",
     "output_type": "stream",
     "text": [
      "False\n"
     ]
    }
   ],
   "source": [
    "x = \"12.345\"\n",
    "\n",
    "y = x.isdecimal()\n",
    "\n",
    "print(y)"
   ]
  },
  {
   "cell_type": "markdown",
   "id": "084d0466",
   "metadata": {},
   "source": [
    "## 16. isdigit()"
   ]
  },
  {
   "cell_type": "markdown",
   "id": "c88ea2ca",
   "metadata": {},
   "source": [
    "* Python String isdigit() method returns “True” if all characters in the string are digits, Otherwise, It returns “False”. "
   ]
  },
  {
   "cell_type": "markdown",
   "id": "dcbc6322",
   "metadata": {},
   "source": [
    "* Syntax:\n",
    "    * string.isdigit()\n",
    "\n",
    "* Parameters: \n",
    "    * isdigit() does not take any parameters\n",
    "\n",
    "* Returns:\n",
    "    * True – If all characters in the string are digits.\n",
    "    * False – If the string contains 1 or more non-digits.\n",
    "\n"
   ]
  },
  {
   "cell_type": "markdown",
   "id": "37b24c27",
   "metadata": {},
   "source": [
    "![](https://cdn.hashnode.com/res/hashnode/image/upload/v1631777099538/W-M1rCS5K.png?auto=compress,format&format=webp)"
   ]
  },
  {
   "cell_type": "code",
   "execution_count": 63,
   "id": "c6f1caad",
   "metadata": {},
   "outputs": [
    {
     "name": "stdout",
     "output_type": "stream",
     "text": [
      "Help on method_descriptor:\n",
      "\n",
      "isdigit(self, /)\n",
      "    Return True if the string is a digit string, False otherwise.\n",
      "    \n",
      "    A string is a digit string if all characters in the string are digits and there\n",
      "    is at least one character in the string.\n",
      "\n"
     ]
    }
   ],
   "source": [
    "help(str.isdigit)"
   ]
  },
  {
   "cell_type": "code",
   "execution_count": 64,
   "id": "a3e09fd0",
   "metadata": {},
   "outputs": [
    {
     "name": "stdout",
     "output_type": "stream",
     "text": [
      "True\n"
     ]
    }
   ],
   "source": [
    "x = \"2311\"\n",
    "\n",
    "y = x.isdigit()\n",
    "\n",
    "print(y)"
   ]
  },
  {
   "cell_type": "code",
   "execution_count": 65,
   "id": "6d26475e",
   "metadata": {},
   "outputs": [
    {
     "name": "stdout",
     "output_type": "stream",
     "text": [
      "False\n"
     ]
    }
   ],
   "source": [
    "x = \"23.11\"\n",
    "\n",
    "y = x.isdigit()\n",
    "\n",
    "print(y)"
   ]
  },
  {
   "cell_type": "code",
   "execution_count": 66,
   "id": "b89b57b5",
   "metadata": {},
   "outputs": [
    {
     "name": "stdout",
     "output_type": "stream",
     "text": [
      "False\n"
     ]
    }
   ],
   "source": [
    "x = \"harsh2311\"\n",
    "\n",
    "y = x.isdigit()\n",
    "\n",
    "print(y)"
   ]
  },
  {
   "cell_type": "markdown",
   "id": "63779513",
   "metadata": {},
   "source": [
    "## 17. isidentifier()"
   ]
  },
  {
   "cell_type": "markdown",
   "id": "3e7687be",
   "metadata": {},
   "source": [
    "* Python String isidentifier() method is used to check whether a string is a valid identifier or not. The method returns True if the string is a valid identifier, else returns False."
   ]
  },
  {
   "cell_type": "markdown",
   "id": "78292e6f",
   "metadata": {},
   "source": [
    "* Syntax: \n",
    "    * string.isidentifier()\n",
    "\n",
    "* Parameters: \n",
    "    * The method does not take any parameters\n",
    "\n",
    "* Return Value:  The method can return one of the two values: \n",
    "    * True: When the string is a valid identifier.\n",
    "    * False: When the string is not a valid identifier."
   ]
  },
  {
   "cell_type": "markdown",
   "id": "2a998499",
   "metadata": {},
   "source": [
    "![](data:image/jpeg;base64,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)"
   ]
  },
  {
   "cell_type": "code",
   "execution_count": 67,
   "id": "585b42d1",
   "metadata": {},
   "outputs": [
    {
     "name": "stdout",
     "output_type": "stream",
     "text": [
      "Help on method_descriptor:\n",
      "\n",
      "isidentifier(self, /)\n",
      "    Return True if the string is a valid Python identifier, False otherwise.\n",
      "    \n",
      "    Call keyword.iskeyword(s) to test whether string s is a reserved identifier,\n",
      "    such as \"def\" or \"class\".\n",
      "\n"
     ]
    }
   ],
   "source": [
    "help(str.isidentifier)"
   ]
  },
  {
   "cell_type": "code",
   "execution_count": 68,
   "id": "802a7b0c",
   "metadata": {},
   "outputs": [
    {
     "name": "stdout",
     "output_type": "stream",
     "text": [
      "True\n"
     ]
    }
   ],
   "source": [
    "x = \"harsh2311\"\n",
    "\n",
    "y = x.isidentifier()\n",
    "\n",
    "print(y)"
   ]
  },
  {
   "cell_type": "code",
   "execution_count": 71,
   "id": "37f94232",
   "metadata": {},
   "outputs": [
    {
     "name": "stdout",
     "output_type": "stream",
     "text": [
      "False\n"
     ]
    }
   ],
   "source": [
    "x = \"harsh@11\"\n",
    "\n",
    "y = x.isidentifier()\n",
    "\n",
    "print(y)"
   ]
  },
  {
   "cell_type": "markdown",
   "id": "d080a30f",
   "metadata": {},
   "source": [
    "## 18. islower()"
   ]
  },
  {
   "cell_type": "markdown",
   "id": "1ffc1fc6",
   "metadata": {},
   "source": [
    "* Python String islower() method checks if all characters in the string are lowercase. \n",
    "\n",
    "* This method returns True if all alphabets in a string are lowercase alphabets. If the string contains at least one uppercase alphabet, it returns False."
   ]
  },
  {
   "cell_type": "markdown",
   "id": "872d3179",
   "metadata": {},
   "source": [
    "* Syntax:  \n",
    "    * string.islower()\n",
    "\n",
    "* Returns:\n",
    "    * True: If all the letters in the string are in lower case and\n",
    "    * False: If even one of them is in upper case."
   ]
  },
  {
   "cell_type": "markdown",
   "id": "35f80797",
   "metadata": {},
   "source": [
    "![](https://www.w3resource.com/w3r_images/numpy-string-operations-islower-function-image-1.png)"
   ]
  },
  {
   "cell_type": "code",
   "execution_count": 72,
   "id": "68b27121",
   "metadata": {},
   "outputs": [
    {
     "name": "stdout",
     "output_type": "stream",
     "text": [
      "Help on method_descriptor:\n",
      "\n",
      "islower(self, /)\n",
      "    Return True if the string is a lowercase string, False otherwise.\n",
      "    \n",
      "    A string is lowercase if all cased characters in the string are lowercase and\n",
      "    there is at least one cased character in the string.\n",
      "\n"
     ]
    }
   ],
   "source": [
    "help(str.islower)"
   ]
  },
  {
   "cell_type": "code",
   "execution_count": 73,
   "id": "e37bded0",
   "metadata": {},
   "outputs": [
    {
     "name": "stdout",
     "output_type": "stream",
     "text": [
      "True\n"
     ]
    }
   ],
   "source": [
    "x = \"hello world!\"\n",
    "\n",
    "y = x.islower()\n",
    "\n",
    "print(y)"
   ]
  },
  {
   "cell_type": "code",
   "execution_count": 74,
   "id": "789904cf",
   "metadata": {},
   "outputs": [
    {
     "name": "stdout",
     "output_type": "stream",
     "text": [
      "True\n"
     ]
    }
   ],
   "source": [
    "x = \"hello world!@1234\"\n",
    "\n",
    "y = x.islower()\n",
    "\n",
    "print(y)"
   ]
  },
  {
   "cell_type": "code",
   "execution_count": 75,
   "id": "51fdcbe8",
   "metadata": {},
   "outputs": [
    {
     "name": "stdout",
     "output_type": "stream",
     "text": [
      "False\n"
     ]
    }
   ],
   "source": [
    "x = \"Hello World!\"\n",
    "\n",
    "y = x.islower()\n",
    "\n",
    "print(y)"
   ]
  },
  {
   "cell_type": "markdown",
   "id": "7653d311",
   "metadata": {},
   "source": [
    "## 19. isnumeric()"
   ]
  },
  {
   "cell_type": "markdown",
   "id": "aa1b5cfd",
   "metadata": {},
   "source": [
    "* The isnumeric() method is a built-in method in Python that belongs to the string class. It is used to determine whether the string consists of numeric characters or not. \n",
    "* It returns a Boolean value. If all characters in the string are numeric and it is not empty, it returns “True” If all characters in the string are numeric characters, otherwise returns “False”."
   ]
  },
  {
   "cell_type": "markdown",
   "id": "55765d29",
   "metadata": {},
   "source": [
    "* Syntax:  \n",
    "    * string.isnumeric()\n",
    "    \n",
    "* Parameters: \n",
    "    * isnumeric() does not take any parameters\n",
    "\n",
    "* Returns :\n",
    "\n",
    "    * True – If all characters in the string are numeric characters.\n",
    "    * False – If the string contains 1 or more non-numeric characters."
   ]
  },
  {
   "cell_type": "markdown",
   "id": "1f786e04",
   "metadata": {},
   "source": [
    "![](https://www.w3resource.com/w3r_images/numpy-string-operations-isnumeric-function-image-1-a.png)"
   ]
  },
  {
   "cell_type": "code",
   "execution_count": 5,
   "id": "7d5c099e",
   "metadata": {},
   "outputs": [
    {
     "name": "stdout",
     "output_type": "stream",
     "text": [
      "Help on method_descriptor:\n",
      "\n",
      "isnumeric(self, /)\n",
      "    Return True if the string is a numeric string, False otherwise.\n",
      "    \n",
      "    A string is numeric if all characters in the string are numeric and there is at\n",
      "    least one character in the string.\n",
      "\n"
     ]
    }
   ],
   "source": [
    "help(str.isnumeric)"
   ]
  },
  {
   "cell_type": "code",
   "execution_count": 6,
   "id": "93bcc37f",
   "metadata": {},
   "outputs": [
    {
     "name": "stdout",
     "output_type": "stream",
     "text": [
      "True\n"
     ]
    }
   ],
   "source": [
    "x = \"2311\"\n",
    "\n",
    "y = x.isnumeric()\n",
    "\n",
    "print(y)"
   ]
  },
  {
   "cell_type": "code",
   "execution_count": 7,
   "id": "ed03ebe4",
   "metadata": {},
   "outputs": [
    {
     "name": "stdout",
     "output_type": "stream",
     "text": [
      "False\n"
     ]
    }
   ],
   "source": [
    "x = \"harsh2311\"\n",
    "\n",
    "y = x.isnumeric()\n",
    "\n",
    "print(y)"
   ]
  },
  {
   "cell_type": "markdown",
   "id": "ded3a231",
   "metadata": {},
   "source": [
    "## 20. isprintable()"
   ]
  },
  {
   "cell_type": "markdown",
   "id": "94da35d0",
   "metadata": {},
   "source": [
    "* Python String isprintable() is a built-in method used for string handling. \n",
    "* The isprintable() method returns “True” if all characters in the string are printable or the string is empty, Otherwise, It returns “False”. \n",
    "* This function is used to check if the argument contains any printable characters such as:\n",
    "\n",
    "    * Digits ( 0123456789 )\n",
    "    * Uppercase letters ( ABCDEFGHIJKLMNOPQRSTUVWXYZ )\n",
    "    * Lowercase letters ( abcdefghijklmnopqrstuvwxyz )\n",
    "    * Punctuation characters ( !”#$%&'()*+, -./:;?@[\\]^_`{ | }~ )\n",
    "    * Space ( )"
   ]
  },
  {
   "cell_type": "markdown",
   "id": "e3d66113",
   "metadata": {},
   "source": [
    "* Syntax: \n",
    "\n",
    "    * string.isprintable()\n",
    "\n",
    "* Parameters:\n",
    "    * isprintable() does not take any parameters\n",
    "\n",
    "* Returns:\n",
    "\n",
    "    * True – If all characters in the string are printable or the string is empty.\n",
    "    * False – If the string contains 1 or more nonprintable characters."
   ]
  },
  {
   "cell_type": "markdown",
   "id": "be48156c",
   "metadata": {},
   "source": [
    "![](https://www.askpython.com/wp-content/uploads/2020/04/python_string_isprintable-1024x578.png.webp)"
   ]
  },
  {
   "cell_type": "code",
   "execution_count": 8,
   "id": "b04663c1",
   "metadata": {},
   "outputs": [
    {
     "name": "stdout",
     "output_type": "stream",
     "text": [
      "Help on method_descriptor:\n",
      "\n",
      "isprintable(self, /)\n",
      "    Return True if the string is printable, False otherwise.\n",
      "    \n",
      "    A string is printable if all of its characters are considered printable in\n",
      "    repr() or if it is empty.\n",
      "\n"
     ]
    }
   ],
   "source": [
    "help(str.isprintable)"
   ]
  },
  {
   "cell_type": "code",
   "execution_count": 9,
   "id": "9a4d1b9d",
   "metadata": {},
   "outputs": [
    {
     "name": "stdout",
     "output_type": "stream",
     "text": [
      "True\n"
     ]
    }
   ],
   "source": [
    "x = 'My name is harsh'\n",
    "\n",
    "y = x.isprintable()\n",
    "\n",
    "print(y)"
   ]
  },
  {
   "cell_type": "code",
   "execution_count": 10,
   "id": "fe08f94e",
   "metadata": {},
   "outputs": [
    {
     "name": "stdout",
     "output_type": "stream",
     "text": [
      "False\n"
     ]
    }
   ],
   "source": [
    "x = 'My name is \\n harsh'\n",
    "\n",
    "y = x.isprintable()\n",
    "\n",
    "print(y)"
   ]
  },
  {
   "cell_type": "code",
   "execution_count": 11,
   "id": "22f46e07",
   "metadata": {},
   "outputs": [
    {
     "name": "stdout",
     "output_type": "stream",
     "text": [
      "True\n"
     ]
    }
   ],
   "source": [
    "x = ''\n",
    "\n",
    "y = x.isprintable()\n",
    "\n",
    "print(y)"
   ]
  },
  {
   "cell_type": "markdown",
   "id": "810b09a0",
   "metadata": {},
   "source": [
    "## 21. isspace()"
   ]
  },
  {
   "cell_type": "markdown",
   "id": "3b120e1d",
   "metadata": {},
   "source": [
    "* Python String isspace() method returns “True” if all characters in the string are whitespace characters, Otherwise, It returns “False”. \n",
    "* This function is used to check if the argument contains all whitespace characters, such as:\n",
    "\n",
    "    * ‘ ‘ – Space\n",
    "    * ‘\\t’ – Horizontal tab\n",
    "    * ‘\\n’ – Newline\n",
    "    * ‘\\v’ – Vertical tab\n",
    "    * ‘\\f’ – Feed\n",
    "    * ‘\\r’ – Carriage return"
   ]
  },
  {
   "cell_type": "markdown",
   "id": "6d63e9ef",
   "metadata": {},
   "source": [
    "* Syntax: \n",
    "    * string.isspace()\n",
    "\n",
    "* Returns:\n",
    "\n",
    "    * True – If all characters in the string are whitespace characters.\n",
    "    * False – If the string contains 1 or more non-whitespace characters."
   ]
  },
  {
   "cell_type": "markdown",
   "id": "8f4d2bfd",
   "metadata": {},
   "source": [
    "![](https://www.w3resource.com/w3r_images/numpy-string-operations-isspace-function-image-1-a.png)"
   ]
  },
  {
   "cell_type": "code",
   "execution_count": 12,
   "id": "7978de7a",
   "metadata": {},
   "outputs": [
    {
     "name": "stdout",
     "output_type": "stream",
     "text": [
      "Help on method_descriptor:\n",
      "\n",
      "isspace(self, /)\n",
      "    Return True if the string is a whitespace string, False otherwise.\n",
      "    \n",
      "    A string is whitespace if all characters in the string are whitespace and there\n",
      "    is at least one character in the string.\n",
      "\n"
     ]
    }
   ],
   "source": [
    "help(str.isspace)"
   ]
  },
  {
   "cell_type": "code",
   "execution_count": 13,
   "id": "7324f312",
   "metadata": {},
   "outputs": [
    {
     "name": "stdout",
     "output_type": "stream",
     "text": [
      "True\n"
     ]
    }
   ],
   "source": [
    "x = '   '\n",
    "\n",
    "y = x.isspace()\n",
    "\n",
    "print(y)"
   ]
  },
  {
   "cell_type": "code",
   "execution_count": 14,
   "id": "3d4bcc35",
   "metadata": {},
   "outputs": [
    {
     "name": "stdout",
     "output_type": "stream",
     "text": [
      "True\n"
     ]
    }
   ],
   "source": [
    "x = '\\t'\n",
    "\n",
    "y = x.isspace()\n",
    "\n",
    "print(y)"
   ]
  },
  {
   "cell_type": "code",
   "execution_count": 15,
   "id": "486b8ab0",
   "metadata": {},
   "outputs": [
    {
     "name": "stdout",
     "output_type": "stream",
     "text": [
      "False\n"
     ]
    }
   ],
   "source": [
    "x = 'harshit shrivastava'\n",
    "\n",
    "y = x.isspace()\n",
    "\n",
    "print(y)"
   ]
  },
  {
   "cell_type": "markdown",
   "id": "65070ba1",
   "metadata": {},
   "source": [
    "## 22. istitle()"
   ]
  },
  {
   "cell_type": "markdown",
   "id": "f97dba2c",
   "metadata": {},
   "source": [
    "* Python String istitle() Method is a built-in string function that returns True if all the words in the string are title cased, otherwise returns False."
   ]
  },
  {
   "cell_type": "markdown",
   "id": "914945df",
   "metadata": {},
   "source": [
    "* Syntax: \n",
    "    * string.istitle()\n",
    "\n",
    "* Returns: \n",
    "    * True if the string is a title-cased string otherwise returns False."
   ]
  },
  {
   "cell_type": "markdown",
   "id": "f012596e",
   "metadata": {},
   "source": [
    "![](https://www.w3resource.com/w3r_images/numpy-string-operations-istitle-function-image-1-a.png)"
   ]
  },
  {
   "cell_type": "code",
   "execution_count": 16,
   "id": "76ca567c",
   "metadata": {},
   "outputs": [
    {
     "name": "stdout",
     "output_type": "stream",
     "text": [
      "Help on method_descriptor:\n",
      "\n",
      "istitle(self, /)\n",
      "    Return True if the string is a title-cased string, False otherwise.\n",
      "    \n",
      "    In a title-cased string, upper- and title-case characters may only\n",
      "    follow uncased characters and lowercase characters only cased ones.\n",
      "\n"
     ]
    }
   ],
   "source": [
    "help(str.istitle)"
   ]
  },
  {
   "cell_type": "code",
   "execution_count": 17,
   "id": "c5231056",
   "metadata": {},
   "outputs": [
    {
     "name": "stdout",
     "output_type": "stream",
     "text": [
      "True\n"
     ]
    }
   ],
   "source": [
    "x = 'Python Is A Programming Language'\n",
    "\n",
    "y = x.istitle()\n",
    "\n",
    "print(y)"
   ]
  },
  {
   "cell_type": "code",
   "execution_count": 18,
   "id": "2010372c",
   "metadata": {},
   "outputs": [
    {
     "name": "stdout",
     "output_type": "stream",
     "text": [
      "False\n"
     ]
    }
   ],
   "source": [
    "x = 'Python is a Programming Language'\n",
    "\n",
    "y = x.istitle()\n",
    "\n",
    "print(y)"
   ]
  },
  {
   "cell_type": "markdown",
   "id": "4542e460",
   "metadata": {},
   "source": [
    "## 23. isupper()"
   ]
  },
  {
   "cell_type": "markdown",
   "id": "e0baea47",
   "metadata": {},
   "source": [
    "* Python String isupper() method returns whether all characters in a string are uppercase or not."
   ]
  },
  {
   "cell_type": "markdown",
   "id": "39070d96",
   "metadata": {},
   "source": [
    "* Syntax: \n",
    "    * string.isupper()\n",
    "\n",
    "* Returns: \n",
    "    * True if all the letters in the string are in the upper case and False if even one of them is in the lower case. "
   ]
  },
  {
   "cell_type": "markdown",
   "id": "718eee9b",
   "metadata": {},
   "source": [
    "![](https://camo.githubusercontent.com/7b31888266f006e961fcb83b8a5a212a9100a50130f882d89a8c68f0a5aba109/68747470733a2f2f7777772e77337265736f757263652e636f6d2f7733725f696d616765732f6e756d70792d737472696e672d6f7065726174696f6e732d697375707065722d66756e6374696f6e2d696d6167652d312d612e706e67)"
   ]
  },
  {
   "cell_type": "code",
   "execution_count": 19,
   "id": "c704c98a",
   "metadata": {},
   "outputs": [
    {
     "name": "stdout",
     "output_type": "stream",
     "text": [
      "Help on method_descriptor:\n",
      "\n",
      "isupper(self, /)\n",
      "    Return True if the string is an uppercase string, False otherwise.\n",
      "    \n",
      "    A string is uppercase if all cased characters in the string are uppercase and\n",
      "    there is at least one cased character in the string.\n",
      "\n"
     ]
    }
   ],
   "source": [
    "help(str.isupper)"
   ]
  },
  {
   "cell_type": "code",
   "execution_count": 20,
   "id": "3baf0d96",
   "metadata": {},
   "outputs": [
    {
     "name": "stdout",
     "output_type": "stream",
     "text": [
      "True\n"
     ]
    }
   ],
   "source": [
    "x = 'PROGRAMMING LANGUAGE'\n",
    "\n",
    "y = x.isupper()\n",
    "\n",
    "print(y)"
   ]
  },
  {
   "cell_type": "code",
   "execution_count": 21,
   "id": "36c85287",
   "metadata": {},
   "outputs": [
    {
     "name": "stdout",
     "output_type": "stream",
     "text": [
      "False\n"
     ]
    }
   ],
   "source": [
    "x = 'Programming Language'\n",
    "\n",
    "y = x.isupper()\n",
    "\n",
    "print(y)"
   ]
  },
  {
   "cell_type": "markdown",
   "id": "8e1fd16e",
   "metadata": {},
   "source": [
    "## 24. join()"
   ]
  },
  {
   "cell_type": "markdown",
   "id": "de11a503",
   "metadata": {},
   "source": [
    "* Python join() is an inbuilt string function in Python used to join elements of the sequence separated by a string separator.\n",
    "* This function joins elements of a sequence and makes it a string."
   ]
  },
  {
   "cell_type": "markdown",
   "id": "e6ee72e4",
   "metadata": {},
   "source": [
    "* Syntax: \n",
    "    * string_name.join(iterable) \n",
    "    \n",
    "* Parameters: \n",
    "\n",
    "    * Iterable – objects capable of returning their members one at a time. Some examples are List, Tuple, String, Dictionary, and Set\n",
    "* Return Value:\n",
    "    * The join() method returns a string concatenated with the elements of iterable. "
   ]
  },
  {
   "cell_type": "markdown",
   "id": "a0c87a4e",
   "metadata": {},
   "source": [
    "![](https://i0.wp.com/www.codingalpha.com/wp-content/uploads/2019/05/Python-Join-method.png?resize=450%2C146)"
   ]
  },
  {
   "cell_type": "code",
   "execution_count": 22,
   "id": "1a7fed37",
   "metadata": {},
   "outputs": [
    {
     "name": "stdout",
     "output_type": "stream",
     "text": [
      "Help on method_descriptor:\n",
      "\n",
      "join(self, iterable, /)\n",
      "    Concatenate any number of strings.\n",
      "    \n",
      "    The string whose method is called is inserted in between each given string.\n",
      "    The result is returned as a new string.\n",
      "    \n",
      "    Example: '.'.join(['ab', 'pq', 'rs']) -> 'ab.pq.rs'\n",
      "\n"
     ]
    }
   ],
   "source": [
    "help(str.join)"
   ]
  },
  {
   "cell_type": "code",
   "execution_count": 24,
   "id": "e074a362",
   "metadata": {},
   "outputs": [
    {
     "name": "stdout",
     "output_type": "stream",
     "text": [
      "harsh#Peter#Vicky\n"
     ]
    }
   ],
   "source": [
    "x = (\"harsh\", \"Peter\", \"Vicky\")\n",
    "\n",
    "y = \"#\".join(x)\n",
    "\n",
    "print(y)"
   ]
  },
  {
   "cell_type": "code",
   "execution_count": 25,
   "id": "610eb4d6",
   "metadata": {},
   "outputs": [
    {
     "name": "stdout",
     "output_type": "stream",
     "text": [
      "harsh!Peter!Vicky\n"
     ]
    }
   ],
   "source": [
    "x = (\"harsh\", \"Peter\", \"Vicky\")\n",
    "\n",
    "y = '!'.join(x)\n",
    "\n",
    "print(y)"
   ]
  },
  {
   "cell_type": "markdown",
   "id": "3a61ae87",
   "metadata": {},
   "source": [
    "## 25. ljust()"
   ]
  },
  {
   "cell_type": "markdown",
   "id": "895e5622",
   "metadata": {},
   "source": [
    "* The string ljust() method returns a new string of given length after substituting a given character in right side of original string."
   ]
  },
  {
   "cell_type": "markdown",
   "id": "ce9d6444",
   "metadata": {},
   "source": [
    "* Syntax:\n",
    "\n",
    "    * string.ljust(length, fillchar)\n",
    "    \n",
    "* Parameters:\n",
    "\n",
    "    * length: length of the modified string. If length is less than or equal to the length of the original string then original string is returned.\n",
    "    * fillchar: (optional) characters which needs to be padded. If it’s not provided, space is taken as a default argument.\n",
    "\n",
    "* Returns:\n",
    "\n",
    "    * Returns a new string of given length after substituting a given character in right side of original string."
   ]
  },
  {
   "cell_type": "markdown",
   "id": "def1fa79",
   "metadata": {},
   "source": [
    "![](https://www.w3resource.com/w3r_images/numpy-string-operations-ljust-function-image.png)"
   ]
  },
  {
   "cell_type": "code",
   "execution_count": 26,
   "id": "bd7922a0",
   "metadata": {},
   "outputs": [
    {
     "name": "stdout",
     "output_type": "stream",
     "text": [
      "Help on method_descriptor:\n",
      "\n",
      "ljust(self, width, fillchar=' ', /)\n",
      "    Return a left-justified string of length width.\n",
      "    \n",
      "    Padding is done using the specified fill character (default is a space).\n",
      "\n"
     ]
    }
   ],
   "source": [
    "help(str.ljust)"
   ]
  },
  {
   "cell_type": "code",
   "execution_count": 28,
   "id": "da9cdb37",
   "metadata": {},
   "outputs": [
    {
     "data": {
      "text/plain": [
       "'Python              '"
      ]
     },
     "execution_count": 28,
     "metadata": {},
     "output_type": "execute_result"
    }
   ],
   "source": [
    "x = 'Python'\n",
    "\n",
    "y = x.ljust(20)\n",
    "\n",
    "y"
   ]
  },
  {
   "cell_type": "code",
   "execution_count": 29,
   "id": "a173bfee",
   "metadata": {},
   "outputs": [
    {
     "name": "stdout",
     "output_type": "stream",
     "text": [
      "Python**************\n"
     ]
    }
   ],
   "source": [
    "x = 'Python'\n",
    "\n",
    "y = x.ljust(20,'*')\n",
    "\n",
    "print(y)"
   ]
  },
  {
   "cell_type": "markdown",
   "id": "53897adb",
   "metadata": {},
   "source": [
    "## 26. lower()"
   ]
  },
  {
   "cell_type": "markdown",
   "id": "e046b3ad",
   "metadata": {},
   "source": [
    "* Python String lower() method converts all uppercase characters in a string into lowercase characters and returns it."
   ]
  },
  {
   "cell_type": "markdown",
   "id": "32cead75",
   "metadata": {},
   "source": [
    "* Syntax: \n",
    "    * string.lower()\n",
    "\n",
    "* Parameters: \n",
    "    * The lower() method doesn’t take any parameters. \n",
    "\n",
    "* Returns: \n",
    "    * Returns a lowercase string of the given string"
   ]
  },
  {
   "cell_type": "markdown",
   "id": "b4805990",
   "metadata": {},
   "source": [
    "![](https://www.tutlane.com/images/python/python_string_lower_method.png)"
   ]
  },
  {
   "cell_type": "code",
   "execution_count": 30,
   "id": "8cf99c15",
   "metadata": {},
   "outputs": [
    {
     "name": "stdout",
     "output_type": "stream",
     "text": [
      "Help on method_descriptor:\n",
      "\n",
      "lower(self, /)\n",
      "    Return a copy of the string converted to lowercase.\n",
      "\n"
     ]
    }
   ],
   "source": [
    "help(str.lower)"
   ]
  },
  {
   "cell_type": "code",
   "execution_count": 31,
   "id": "54564acf",
   "metadata": {},
   "outputs": [
    {
     "name": "stdout",
     "output_type": "stream",
     "text": [
      "my name is harsh\n"
     ]
    }
   ],
   "source": [
    "x = \"MY NAME IS HARSH\"\n",
    "\n",
    "y = x.lower()\n",
    "\n",
    "print(y)"
   ]
  },
  {
   "cell_type": "code",
   "execution_count": 32,
   "id": "5d4dc296",
   "metadata": {},
   "outputs": [
    {
     "name": "stdout",
     "output_type": "stream",
     "text": [
      "python\n"
     ]
    }
   ],
   "source": [
    "x = 'PYTHON'\n",
    "\n",
    "y = x.lower()\n",
    "\n",
    "print(y)"
   ]
  },
  {
   "cell_type": "markdown",
   "id": "b20049a9",
   "metadata": {},
   "source": [
    "## 27. lstrip()"
   ]
  },
  {
   "cell_type": "markdown",
   "id": "1e07e2e5",
   "metadata": {},
   "source": [
    "* Python String lstrip() method returns a copy of the string with leading characters removed (based on the string argument passed). If no argument is passed, it removes leading spaces.\n"
   ]
  },
  {
   "cell_type": "markdown",
   "id": "5dcc0fce",
   "metadata": {},
   "source": [
    "* Syntax:  \n",
    "    * string.lstrip(characters)\n",
    "\n",
    "* Parameters: \n",
    "\n",
    "    * characters [optional]: A set of characters to remove as leading characters. By default, it uses space as the character to remove.\n",
    "* Return: \n",
    "    * Returns a copy of the string with leading characters stripped."
   ]
  },
  {
   "cell_type": "markdown",
   "id": "b93156f6",
   "metadata": {},
   "source": [
    "![](https://www.pythonpool.com/wp-content/uploads/2020/02/Trimming-White-Space-in-Python.png)"
   ]
  },
  {
   "cell_type": "code",
   "execution_count": 33,
   "id": "07990c69",
   "metadata": {},
   "outputs": [
    {
     "name": "stdout",
     "output_type": "stream",
     "text": [
      "Help on method_descriptor:\n",
      "\n",
      "lstrip(self, chars=None, /)\n",
      "    Return a copy of the string with leading whitespace removed.\n",
      "    \n",
      "    If chars is given and not None, remove characters in chars instead.\n",
      "\n"
     ]
    }
   ],
   "source": [
    "help(str.lstrip)"
   ]
  },
  {
   "cell_type": "code",
   "execution_count": 35,
   "id": "8f037b26",
   "metadata": {},
   "outputs": [
    {
     "data": {
      "text/plain": [
       "'Harsh     '"
      ]
     },
     "execution_count": 35,
     "metadata": {},
     "output_type": "execute_result"
    }
   ],
   "source": [
    "x = '     Harsh     '\n",
    "\n",
    "y = x.lstrip()\n",
    "\n",
    "y"
   ]
  },
  {
   "cell_type": "code",
   "execution_count": 38,
   "id": "ec74bee9",
   "metadata": {},
   "outputs": [
    {
     "data": {
      "text/plain": [
       "'malayalam#@!'"
      ]
     },
     "execution_count": 38,
     "metadata": {},
     "output_type": "execute_result"
    }
   ],
   "source": [
    "x = '!@#malayalam#@!'\n",
    "\n",
    "y = x.lstrip('#@!')\n",
    "\n",
    "y"
   ]
  },
  {
   "cell_type": "markdown",
   "id": "c3e3e7cb",
   "metadata": {},
   "source": [
    "## 28. partition()"
   ]
  },
  {
   "cell_type": "markdown",
   "id": "054f8667",
   "metadata": {},
   "source": [
    "* The partition() method searches for a specified string, and splits the string into a tuple containing three elements.\n",
    "\n",
    "    * The first element contains the part before the specified string.\n",
    "\n",
    "    * The second element contains the specified string.\n",
    "\n",
    "    * The third element contains the part after the string."
   ]
  },
  {
   "cell_type": "markdown",
   "id": "e457295a",
   "metadata": {},
   "source": [
    "* Syntax: \n",
    "    * string.partition(separator)\n",
    "* Parameters: \n",
    "\n",
    "    * separator: a substring that separates the string\n",
    "* Return:\n",
    "    * Returns a tuple of 3 elements. The substring before the separator, the separator, the part after the separator."
   ]
  },
  {
   "cell_type": "markdown",
   "id": "eb39ef12",
   "metadata": {},
   "source": [
    "![](https://scaler.com/topics/images/what-is-partition-in-python.webp)"
   ]
  },
  {
   "cell_type": "code",
   "execution_count": 39,
   "id": "32ebaff8",
   "metadata": {},
   "outputs": [
    {
     "name": "stdout",
     "output_type": "stream",
     "text": [
      "Help on method_descriptor:\n",
      "\n",
      "partition(self, sep, /)\n",
      "    Partition the string into three parts using the given separator.\n",
      "    \n",
      "    This will search for the separator in the string.  If the separator is found,\n",
      "    returns a 3-tuple containing the part before the separator, the separator\n",
      "    itself, and the part after it.\n",
      "    \n",
      "    If the separator is not found, returns a 3-tuple containing the original string\n",
      "    and two empty strings.\n",
      "\n"
     ]
    }
   ],
   "source": [
    "help(str.partition)"
   ]
  },
  {
   "cell_type": "code",
   "execution_count": 40,
   "id": "829b8451",
   "metadata": {},
   "outputs": [
    {
     "name": "stdout",
     "output_type": "stream",
     "text": [
      "('Python', ' ', 'Is A Programming Language')\n"
     ]
    }
   ],
   "source": [
    "a = 'Python Is A Programming Language'.partition(' ')\n",
    "\n",
    "print(a)"
   ]
  },
  {
   "cell_type": "code",
   "execution_count": 41,
   "id": "347d4e1e",
   "metadata": {
    "scrolled": true
   },
   "outputs": [
    {
     "name": "stdout",
     "output_type": "stream",
     "text": [
      "('Harsh', '', '')\n"
     ]
    }
   ],
   "source": [
    "a = 'Harsh'.partition(' ')\n",
    "\n",
    "print(a)"
   ]
  },
  {
   "cell_type": "markdown",
   "id": "b135d3be",
   "metadata": {},
   "source": [
    "## 29. removeprefix()"
   ]
  },
  {
   "cell_type": "markdown",
   "id": "4cbfde40",
   "metadata": {},
   "source": [
    "* removeprefix() function removes the prefix and returns the rest of the string.If the prefix string is not found, then it returns the original string."
   ]
  },
  {
   "cell_type": "markdown",
   "id": "6b04d481",
   "metadata": {},
   "source": [
    "* Syntax: \n",
    "    * str_obj_name.removeprefix(prefix)\n",
    "* Parameters:\n",
    "    * prefix– prefix string that we are checking for.\n",
    "* Return:\n",
    "    * Returns the copy of the string with the prefix removed(if present), else the original string."
   ]
  },
  {
   "cell_type": "markdown",
   "id": "ef3cf02d",
   "metadata": {},
   "source": [
    "![](https://datascienceparichay.com/wp-content/uploads/2020/10/new-string-functions-python-3-9.png)"
   ]
  },
  {
   "cell_type": "code",
   "execution_count": 90,
   "id": "7c8cac6f",
   "metadata": {},
   "outputs": [
    {
     "name": "stdout",
     "output_type": "stream",
     "text": [
      "Help on method_descriptor:\n",
      "\n",
      "removeprefix(self, prefix, /)\n",
      "    Return a str with the given prefix string removed if present.\n",
      "    \n",
      "    If the string starts with the prefix string, return string[len(prefix):].\n",
      "    Otherwise, return a copy of the original string.\n",
      "\n"
     ]
    }
   ],
   "source": [
    "help(str.removeprefix)"
   ]
  },
  {
   "cell_type": "code",
   "execution_count": 89,
   "id": "e3eaf67b",
   "metadata": {},
   "outputs": [
    {
     "name": "stdout",
     "output_type": "stream",
     "text": [
      "hop\n"
     ]
    }
   ],
   "source": [
    "y = 'hiphop'.removeprefix('hip')\n",
    "\n",
    "print(y)"
   ]
  },
  {
   "cell_type": "markdown",
   "id": "c9f861df",
   "metadata": {},
   "source": [
    "## 30 removesuffix()"
   ]
  },
  {
   "cell_type": "markdown",
   "id": "6d4a95f1",
   "metadata": {},
   "source": [
    "* If the string ends with the suffix and the suffix is not empty, the str.removesuffix(suffix, /) function removes the suffix and returns the rest of the string. If the suffix string is not found then it returns the original string."
   ]
  },
  {
   "cell_type": "markdown",
   "id": "2a24efc7",
   "metadata": {},
   "source": [
    "\n",
    "* Syntax:\n",
    "    * str.removesuffix(suffix, /)\n",
    "* Parameters:\n",
    "    * Suffix– suffix string that we are checking for.\n",
    "* Return value:\n",
    "    * Returns: string[ : – len (suffix) ]\n"
   ]
  },
  {
   "cell_type": "markdown",
   "id": "98a0f38d",
   "metadata": {},
   "source": [
    "![](https://datascienceparichay.com/wp-content/uploads/2020/10/new-string-functions-python-3-9.png)"
   ]
  },
  {
   "cell_type": "code",
   "execution_count": 91,
   "id": "3a1896fe",
   "metadata": {},
   "outputs": [
    {
     "name": "stdout",
     "output_type": "stream",
     "text": [
      "Help on method_descriptor:\n",
      "\n",
      "removesuffix(self, suffix, /)\n",
      "    Return a str with the given suffix string removed if present.\n",
      "    \n",
      "    If the string ends with the suffix string and that suffix is not empty,\n",
      "    return string[:-len(suffix)]. Otherwise, return a copy of the original\n",
      "    string.\n",
      "\n"
     ]
    }
   ],
   "source": [
    "help(str.removesuffix)"
   ]
  },
  {
   "cell_type": "code",
   "execution_count": 92,
   "id": "44562706",
   "metadata": {},
   "outputs": [
    {
     "name": "stdout",
     "output_type": "stream",
     "text": [
      "hip\n"
     ]
    }
   ],
   "source": [
    "y = 'hiphop'.removesuffix('hop')\n",
    "\n",
    "print(y)"
   ]
  },
  {
   "cell_type": "markdown",
   "id": "5f4c3b53",
   "metadata": {},
   "source": [
    "## 31. replace()"
   ]
  },
  {
   "cell_type": "markdown",
   "id": "29036f5b",
   "metadata": {},
   "source": [
    "* The replace() method replaces a specified phrase with another specified phrase."
   ]
  },
  {
   "cell_type": "markdown",
   "id": "138866db",
   "metadata": {},
   "source": [
    "* Syntax: \n",
    "    * string.replace(old, new, count)\n",
    "\n",
    "* Parameters:\n",
    "    * old – old substring you want to replace.\n",
    "    * new – new substring which would replace the old substring.\n",
    "    * count – (Optional ) the number of times you want to replace the old substring with the new substring. \n",
    "* Return Value : \n",
    "    * It returns a copy of the string where all occurrences of a substring are replaced with another substring. "
   ]
  },
  {
   "cell_type": "markdown",
   "id": "21d58ecb",
   "metadata": {},
   "source": [
    "![](https://www.tutlane.com/images/python/python_string_replace_method.png)"
   ]
  },
  {
   "cell_type": "code",
   "execution_count": 42,
   "id": "967d8dd0",
   "metadata": {},
   "outputs": [
    {
     "name": "stdout",
     "output_type": "stream",
     "text": [
      "Help on method_descriptor:\n",
      "\n",
      "replace(self, old, new, count=-1, /)\n",
      "    Return a copy with all occurrences of substring old replaced by new.\n",
      "    \n",
      "      count\n",
      "        Maximum number of occurrences to replace.\n",
      "        -1 (the default value) means replace all occurrences.\n",
      "    \n",
      "    If the optional argument count is given, only the first count occurrences are\n",
      "    replaced.\n",
      "\n"
     ]
    }
   ],
   "source": [
    "help(str.replace)"
   ]
  },
  {
   "cell_type": "code",
   "execution_count": 43,
   "id": "0a17e968",
   "metadata": {},
   "outputs": [
    {
     "name": "stdout",
     "output_type": "stream",
     "text": [
      "Python Program\n"
     ]
    }
   ],
   "source": [
    "y = 'python program'\n",
    "\n",
    "print(y.replace('p','P'))"
   ]
  },
  {
   "cell_type": "code",
   "execution_count": 44,
   "id": "a05d119e",
   "metadata": {},
   "outputs": [
    {
     "name": "stdout",
     "output_type": "stream",
     "text": [
      "mAlAyAlAm\n"
     ]
    }
   ],
   "source": [
    "y = 'malayalam'\n",
    "\n",
    "print(y.replace('a','A',5))"
   ]
  },
  {
   "cell_type": "markdown",
   "id": "086e9474",
   "metadata": {},
   "source": [
    "## 32. rfind()"
   ]
  },
  {
   "cell_type": "markdown",
   "id": "c22ac2b6",
   "metadata": {},
   "source": [
    "* The rfind() method finds the last occurrence of the specified value.\n",
    "\n",
    "* The rfind() method returns -1 if the value is not found.\n",
    "\n",
    "* The rfind() method is almost the same as the rindex() method."
   ]
  },
  {
   "cell_type": "markdown",
   "id": "d548579f",
   "metadata": {},
   "source": [
    "* Syntax: \n",
    "    * str.rfind(sub, start, end)\n",
    "\n",
    "* Parameters: \n",
    "\n",
    "    * sub: It’s the substring that needs to be searched in the given string. \n",
    "    * start: Starting position where the sub needs to be checked within the string. \n",
    "    * end: Ending position where suffix needs to be checked within the string."
   ]
  },
  {
   "cell_type": "markdown",
   "id": "550e4094",
   "metadata": {},
   "source": [
    "![](https://www.programiz.com/sites/tutorial2program/files/string-find-rfind_0.png)"
   ]
  },
  {
   "cell_type": "code",
   "execution_count": 45,
   "id": "513e12fb",
   "metadata": {},
   "outputs": [
    {
     "name": "stdout",
     "output_type": "stream",
     "text": [
      "Help on method_descriptor:\n",
      "\n",
      "rfind(...)\n",
      "    S.rfind(sub[, start[, end]]) -> int\n",
      "    \n",
      "    Return the highest index in S where substring sub is found,\n",
      "    such that sub is contained within S[start:end].  Optional\n",
      "    arguments start and end are interpreted as in slice notation.\n",
      "    \n",
      "    Return -1 on failure.\n",
      "\n"
     ]
    }
   ],
   "source": [
    "help(str.rfind)"
   ]
  },
  {
   "cell_type": "code",
   "execution_count": 46,
   "id": "a658fd4c",
   "metadata": {},
   "outputs": [
    {
     "name": "stdout",
     "output_type": "stream",
     "text": [
      "80\n"
     ]
    }
   ],
   "source": [
    "x = 'I have got a date at a quarter to eight; I’ll see you at the gate, so don’t be late.'\n",
    "\n",
    "y = x.rfind('a')\n",
    "\n",
    "print(y)"
   ]
  },
  {
   "cell_type": "code",
   "execution_count": 47,
   "id": "1358f5f9",
   "metadata": {},
   "outputs": [
    {
     "name": "stdout",
     "output_type": "stream",
     "text": [
      "12\n"
     ]
    }
   ],
   "source": [
    " x = 'python is a programming language'\n",
    "\n",
    "print(x.rfind('programming'))"
   ]
  },
  {
   "cell_type": "code",
   "execution_count": 49,
   "id": "204ff37d",
   "metadata": {},
   "outputs": [
    {
     "name": "stdout",
     "output_type": "stream",
     "text": [
      "-1\n"
     ]
    }
   ],
   "source": [
    "x = 'python is a programming language'\n",
    "\n",
    "print(x.rfind('z'))"
   ]
  },
  {
   "cell_type": "markdown",
   "id": "88c9dd93",
   "metadata": {},
   "source": [
    "## 33. rindex()"
   ]
  },
  {
   "cell_type": "markdown",
   "id": "07c65ff5",
   "metadata": {},
   "source": [
    "* The rindex() method finds the last occurrence of the specified value.\n",
    "\n",
    "* The rindex() method raises an exception if the value is not found.\n"
   ]
  },
  {
   "cell_type": "markdown",
   "id": "6386bf08",
   "metadata": {},
   "source": [
    "* Syntax:  \n",
    "    * str.rindex(sub, start, end)\n",
    "\n",
    "* Parameters: \n",
    "\n",
    "    * sub : It’s the substring which needs to be searched in the given string.\n",
    "    * start : Starting position where sub is needs to be checked within the string.\n",
    "    * end : Ending position where suffix is needs to be checked within the string.\n",
    "* Return:\n",
    "    * Returns the highest index of the substring inside the string if substring is found. Otherwise it raises an exception."
   ]
  },
  {
   "cell_type": "markdown",
   "id": "c7281568",
   "metadata": {},
   "source": [
    "![](https://datascienceparichay.com/wp-content/uploads/2021/12/python-get-last-index-of-character-in-string.png.webp)"
   ]
  },
  {
   "cell_type": "code",
   "execution_count": 50,
   "id": "0e9cc7f6",
   "metadata": {},
   "outputs": [
    {
     "name": "stdout",
     "output_type": "stream",
     "text": [
      "Help on method_descriptor:\n",
      "\n",
      "rindex(...)\n",
      "    S.rindex(sub[, start[, end]]) -> int\n",
      "    \n",
      "    Return the highest index in S where substring sub is found,\n",
      "    such that sub is contained within S[start:end].  Optional\n",
      "    arguments start and end are interpreted as in slice notation.\n",
      "    \n",
      "    Raises ValueError when the substring is not found.\n",
      "\n"
     ]
    }
   ],
   "source": [
    "help(str.rindex)"
   ]
  },
  {
   "cell_type": "code",
   "execution_count": 53,
   "id": "149cb1fd",
   "metadata": {},
   "outputs": [
    {
     "name": "stdout",
     "output_type": "stream",
     "text": [
      "12\n"
     ]
    }
   ],
   "source": [
    "x = 'python is a programming language'\n",
    "\n",
    "print(x.rindex('programming'))"
   ]
  },
  {
   "cell_type": "code",
   "execution_count": 8,
   "id": "39ca04f7",
   "metadata": {},
   "outputs": [
    {
     "name": "stdout",
     "output_type": "stream",
     "text": [
      "30\n"
     ]
    }
   ],
   "source": [
    "x = 'python is a programming language'\n",
    "\n",
    "print(x.rindex('g'))"
   ]
  },
  {
   "cell_type": "code",
   "execution_count": 52,
   "id": "c923c565",
   "metadata": {},
   "outputs": [],
   "source": [
    "# print(x.rindex('z'))  # uncomment to see the error"
   ]
  },
  {
   "cell_type": "markdown",
   "id": "8af10352",
   "metadata": {},
   "source": [
    "## 34. rjust()"
   ]
  },
  {
   "cell_type": "markdown",
   "id": "e2a36e01",
   "metadata": {},
   "source": [
    "* String rjust() The string rjust() method returns a new string of given length after substituting a given character in left side of original string."
   ]
  },
  {
   "cell_type": "markdown",
   "id": "e0bdcca5",
   "metadata": {},
   "source": [
    "* Syntax:\n",
    "    * string.rjust(length, fillchar)\n",
    "\n",
    "* Parameters:\n",
    "    * length: length of the modified string. If length is less than or equal to the length of the original string then original string is returned.\n",
    "    * fillchar: (optional) characters which needs to be padded. If it’s not provided, space is taken as a default argument.\n",
    "\n",
    "* Returns:\n",
    "\n",
    "    * Returns a new string of given length after substituting a given character in left side of original string."
   ]
  },
  {
   "cell_type": "markdown",
   "id": "c149458e",
   "metadata": {},
   "source": [
    "![](https://www.w3resource.com/w3r_images/numpy-string-operations-rjust-function-image.png)"
   ]
  },
  {
   "cell_type": "code",
   "execution_count": 54,
   "id": "ab21dbff",
   "metadata": {},
   "outputs": [
    {
     "name": "stdout",
     "output_type": "stream",
     "text": [
      "Help on method_descriptor:\n",
      "\n",
      "rjust(self, width, fillchar=' ', /)\n",
      "    Return a right-justified string of length width.\n",
      "    \n",
      "    Padding is done using the specified fill character (default is a space).\n",
      "\n"
     ]
    }
   ],
   "source": [
    "help(str.rjust)"
   ]
  },
  {
   "cell_type": "code",
   "execution_count": 55,
   "id": "86a18ab2",
   "metadata": {},
   "outputs": [
    {
     "data": {
      "text/plain": [
       "'              Python'"
      ]
     },
     "execution_count": 55,
     "metadata": {},
     "output_type": "execute_result"
    }
   ],
   "source": [
    "x = 'Python'\n",
    "\n",
    "y = x.rjust(20)\n",
    "\n",
    "y"
   ]
  },
  {
   "cell_type": "code",
   "execution_count": 56,
   "id": "a0f2eb96",
   "metadata": {},
   "outputs": [
    {
     "name": "stdout",
     "output_type": "stream",
     "text": [
      "**************Python\n"
     ]
    }
   ],
   "source": [
    "x = 'Python'\n",
    "\n",
    "y = x.rjust(20,'*')\n",
    "\n",
    "print(y)"
   ]
  },
  {
   "cell_type": "markdown",
   "id": "d9970ac7",
   "metadata": {},
   "source": [
    "## 35. rpartition()"
   ]
  },
  {
   "cell_type": "markdown",
   "id": "1370b209",
   "metadata": {},
   "source": [
    "* The rpartition() method searches for the last occurrence of a specified string, and splits the string into a tuple containing three elements.\n",
    "\n",
    "    * The first element contains the part before the specified string.\n",
    "\n",
    "    * The second element contains the specified string.\n",
    "\n",
    "    * The third element contains the part after the string."
   ]
  },
  {
   "cell_type": "markdown",
   "id": "bb6ae6b8",
   "metadata": {},
   "source": [
    "* Syntax : \n",
    "    * string.rpartition(separator)\n",
    "\n",
    "* Parameters :  \n",
    "\n",
    "    * separator –  separates the string at the first occurrence of it.\n",
    "* Return Value : \n",
    "    * It returns the part the string before the separator, separator parameter itself, and the part after the separator if the separator parameter is found in the string.\n",
    "    * It returns two empty strings, followed by the given string if the separator is not found in the string\n",
    "\n"
   ]
  },
  {
   "cell_type": "code",
   "execution_count": 57,
   "id": "dfc03cde",
   "metadata": {},
   "outputs": [
    {
     "name": "stdout",
     "output_type": "stream",
     "text": [
      "Help on method_descriptor:\n",
      "\n",
      "rpartition(self, sep, /)\n",
      "    Partition the string into three parts using the given separator.\n",
      "    \n",
      "    This will search for the separator in the string, starting at the end. If\n",
      "    the separator is found, returns a 3-tuple containing the part before the\n",
      "    separator, the separator itself, and the part after it.\n",
      "    \n",
      "    If the separator is not found, returns a 3-tuple containing two empty strings\n",
      "    and the original string.\n",
      "\n"
     ]
    }
   ],
   "source": [
    "help(str.rpartition)"
   ]
  },
  {
   "cell_type": "code",
   "execution_count": 58,
   "id": "4c15ad1e",
   "metadata": {},
   "outputs": [
    {
     "name": "stdout",
     "output_type": "stream",
     "text": [
      "('Python Is A Programming', ' ', 'Language')\n"
     ]
    }
   ],
   "source": [
    "a = 'Python Is A Programming Language'.rpartition(' ')\n",
    "\n",
    "print(a)"
   ]
  },
  {
   "cell_type": "code",
   "execution_count": 59,
   "id": "93925e1c",
   "metadata": {},
   "outputs": [
    {
     "name": "stdout",
     "output_type": "stream",
     "text": [
      "('', '', 'Harsh')\n"
     ]
    }
   ],
   "source": [
    "a = 'Harsh'.rpartition(' ')\n",
    "\n",
    "print(a)"
   ]
  },
  {
   "cell_type": "markdown",
   "id": "d2ab0cf0",
   "metadata": {},
   "source": [
    "## 36. rsplit()"
   ]
  },
  {
   "cell_type": "markdown",
   "id": "f913a2d4",
   "metadata": {},
   "source": [
    "* Python String rsplit() method returns a list of strings after breaking the given string from the right side by the specified separator."
   ]
  },
  {
   "cell_type": "markdown",
   "id": "8a6d794f",
   "metadata": {},
   "source": [
    "\n",
    "* Syntax: \n",
    "    * str.rsplit(separator, maxsplit)\n",
    "\n",
    "* Parameters:  \n",
    "\n",
    "    * separator: The is a delimiter. The string splits at this specified separator starting from the right side. If not provided then any white space character is a separator.\n",
    "    * maxsplit: It is a number, which tells us to split the string into a maximum of provided number of times. If it is not provided then there is no limit.  \n",
    "* Return: \n",
    "    * Returns a list of strings after breaking the given string from the right side by the specified separator."
   ]
  },
  {
   "cell_type": "code",
   "execution_count": 60,
   "id": "8ccd1f57",
   "metadata": {},
   "outputs": [
    {
     "name": "stdout",
     "output_type": "stream",
     "text": [
      "Help on method_descriptor:\n",
      "\n",
      "rsplit(self, /, sep=None, maxsplit=-1)\n",
      "    Return a list of the substrings in the string, using sep as the separator string.\n",
      "    \n",
      "      sep\n",
      "        The separator used to split the string.\n",
      "    \n",
      "        When set to None (the default value), will split on any whitespace\n",
      "        character (including \\\\n \\\\r \\\\t \\\\f and spaces) and will discard\n",
      "        empty strings from the result.\n",
      "      maxsplit\n",
      "        Maximum number of splits (starting from the left).\n",
      "        -1 (the default value) means no limit.\n",
      "    \n",
      "    Splitting starts at the end of the string and works to the front.\n",
      "\n"
     ]
    }
   ],
   "source": [
    "help(str.rsplit)"
   ]
  },
  {
   "cell_type": "code",
   "execution_count": 61,
   "id": "51dfd289",
   "metadata": {},
   "outputs": [
    {
     "name": "stdout",
     "output_type": "stream",
     "text": [
      "['what is your', 'name', '?']\n"
     ]
    }
   ],
   "source": [
    "a = 'what is your name ?'.rsplit(maxsplit = 2)\n",
    "\n",
    "print(a)"
   ]
  },
  {
   "cell_type": "markdown",
   "id": "5edf80da",
   "metadata": {},
   "source": [
    "## 37. rstrip()"
   ]
  },
  {
   "cell_type": "markdown",
   "id": "96ac5d04",
   "metadata": {},
   "source": [
    "* Python String rstrip() method returns a copy of the string with trailing characters removed (based on the string argument passed). If no argument is passed, it removes trailing spaces.\n"
   ]
  },
  {
   "cell_type": "markdown",
   "id": "dcc7047b",
   "metadata": {},
   "source": [
    "\n",
    "* Syntax: \n",
    "    * string.rstrip([chars])\n",
    "\n",
    "* Parameters:\n",
    "    * chars (optional) – a string specifying the set of characters to be removed.\n",
    "\n",
    "* Return:\n",
    "    * Returns a copy of the string with trailing characters stripped.\n",
    "\n"
   ]
  },
  {
   "cell_type": "markdown",
   "id": "9e34489b",
   "metadata": {},
   "source": [
    "![](https://www.pythonpool.com/wp-content/uploads/2020/02/Trimming-White-Space-in-Python.png)"
   ]
  },
  {
   "cell_type": "code",
   "execution_count": 62,
   "id": "6728543e",
   "metadata": {},
   "outputs": [
    {
     "name": "stdout",
     "output_type": "stream",
     "text": [
      "Help on method_descriptor:\n",
      "\n",
      "rstrip(self, chars=None, /)\n",
      "    Return a copy of the string with trailing whitespace removed.\n",
      "    \n",
      "    If chars is given and not None, remove characters in chars instead.\n",
      "\n"
     ]
    }
   ],
   "source": [
    "help(str.rstrip)"
   ]
  },
  {
   "cell_type": "code",
   "execution_count": 63,
   "id": "5f04ab17",
   "metadata": {},
   "outputs": [
    {
     "data": {
      "text/plain": [
       "'     Harsh'"
      ]
     },
     "execution_count": 63,
     "metadata": {},
     "output_type": "execute_result"
    }
   ],
   "source": [
    "x = '     Harsh     '\n",
    "\n",
    "y = x.rstrip()\n",
    "\n",
    "y"
   ]
  },
  {
   "cell_type": "code",
   "execution_count": 64,
   "id": "38e302bb",
   "metadata": {},
   "outputs": [
    {
     "data": {
      "text/plain": [
       "'!@#malayalam'"
      ]
     },
     "execution_count": 64,
     "metadata": {},
     "output_type": "execute_result"
    }
   ],
   "source": [
    "x = '!@#malayalam#@!'\n",
    "\n",
    "y = x.rstrip('#@!')\n",
    "\n",
    "y"
   ]
  },
  {
   "cell_type": "markdown",
   "id": "de81e35a",
   "metadata": {},
   "source": [
    "## 38. split()"
   ]
  },
  {
   "cell_type": "markdown",
   "id": "cb928921",
   "metadata": {},
   "source": [
    "* The split() method splits a string into a list."
   ]
  },
  {
   "cell_type": "markdown",
   "id": "77879fff",
   "metadata": {},
   "source": [
    "* Syntax : \n",
    "    * str.split(separator, maxsplit)\n",
    "\n",
    "* Parameters :\n",
    "\n",
    "    * separator: This is a delimiter. The string splits at this specified separator. If is not provided then any white space is a separator.\n",
    "    * maxsplit: It is a number, which tells us to split the string into maximum of provided number of times. If it is not provided then the default is -1 that means there is no limit.\n",
    "* Returns :\n",
    "    * Returns a list of strings after breaking the given string by the specified separator."
   ]
  },
  {
   "cell_type": "markdown",
   "id": "809a3bcb",
   "metadata": {},
   "source": [
    "![](https://www.tutlane.com/images/python/python_string_split_method.png)"
   ]
  },
  {
   "cell_type": "code",
   "execution_count": 71,
   "id": "4bba7a77",
   "metadata": {
    "scrolled": true
   },
   "outputs": [
    {
     "name": "stdout",
     "output_type": "stream",
     "text": [
      "Help on method_descriptor:\n",
      "\n",
      "split(self, /, sep=None, maxsplit=-1)\n",
      "    Return a list of the substrings in the string, using sep as the separator string.\n",
      "    \n",
      "      sep\n",
      "        The separator used to split the string.\n",
      "    \n",
      "        When set to None (the default value), will split on any whitespace\n",
      "        character (including \\\\n \\\\r \\\\t \\\\f and spaces) and will discard\n",
      "        empty strings from the result.\n",
      "      maxsplit\n",
      "        Maximum number of splits (starting from the left).\n",
      "        -1 (the default value) means no limit.\n",
      "    \n",
      "    Note, str.split() is mainly useful for data that has been intentionally\n",
      "    delimited.  With natural text that includes punctuation, consider using\n",
      "    the regular expression module.\n",
      "\n"
     ]
    }
   ],
   "source": [
    "help(str.split)"
   ]
  },
  {
   "cell_type": "code",
   "execution_count": 72,
   "id": "5e3a8242",
   "metadata": {},
   "outputs": [
    {
     "name": "stdout",
     "output_type": "stream",
     "text": [
      "['what', 'is', 'your name ?']\n"
     ]
    }
   ],
   "source": [
    "a = 'what is your name ?'.split(maxsplit = 2)\n",
    "\n",
    "print(a)"
   ]
  },
  {
   "cell_type": "markdown",
   "id": "994cbce0",
   "metadata": {},
   "source": [
    "## 39. splitlines()"
   ]
  },
  {
   "cell_type": "markdown",
   "id": "86195710",
   "metadata": {},
   "source": [
    "* The splitlines() method splits a string into a list. The splitting is done at line breaks."
   ]
  },
  {
   "cell_type": "markdown",
   "id": "844b021e",
   "metadata": {},
   "source": [
    "* Syntax: \n",
    "\n",
    "    * string.splitlines(keepends)\n",
    "\n",
    "* Parameters:\n",
    "\n",
    "    * keepends (optional): When set to True line breaks are included in the resulting list. This can be a number, specifying the position of line break or, can be any Unicode characters, like “\\n”, “\\r”, “\\r\\n”, etc as boundaries for strings.\n",
    "\n",
    "* Return Value: \n",
    "\n",
    "    * Returns a list of the lines in the string, breaking at line boundaries"
   ]
  },
  {
   "cell_type": "markdown",
   "id": "41ec2065",
   "metadata": {},
   "source": [
    "![](https://scaler.com/topics/images/splitlines-function-example.webp)"
   ]
  },
  {
   "cell_type": "code",
   "execution_count": 65,
   "id": "f9fc13e2",
   "metadata": {},
   "outputs": [
    {
     "name": "stdout",
     "output_type": "stream",
     "text": [
      "Help on method_descriptor:\n",
      "\n",
      "splitlines(self, /, keepends=False)\n",
      "    Return a list of the lines in the string, breaking at line boundaries.\n",
      "    \n",
      "    Line breaks are not included in the resulting list unless keepends is given and\n",
      "    true.\n",
      "\n"
     ]
    }
   ],
   "source": [
    "help(str.splitlines)"
   ]
  },
  {
   "cell_type": "code",
   "execution_count": 67,
   "id": "58cd0eae",
   "metadata": {},
   "outputs": [
    {
     "name": "stdout",
     "output_type": "stream",
     "text": [
      "I have got a date at a quarter to eight; I’ll see you at the gate, so don’t be late.\n",
      "['I have got a date at a quarter to eight; I’ll see you at the gate, so don’t be late.']\n"
     ]
    }
   ],
   "source": [
    "x = 'I have got a date at a quarter to eight; I’ll see you at the gate, so don’t be late.'\n",
    "\n",
    "y = x.splitlines()\n",
    "\n",
    "print(x)\n",
    "print(y)"
   ]
  },
  {
   "cell_type": "markdown",
   "id": "03e3b0b0",
   "metadata": {},
   "source": [
    "## 40. startswith()"
   ]
  },
  {
   "cell_type": "markdown",
   "id": "2524479e",
   "metadata": {},
   "source": [
    "* Python String startswith() method returns True if a string starts with the specified prefix (string). If not, it returns False using Python."
   ]
  },
  {
   "cell_type": "markdown",
   "id": "ee050139",
   "metadata": {},
   "source": [
    "\n",
    "* Syntax: \n",
    "    * str.startswith(prefix, start, end)\n",
    "\n",
    "* Parameters:\n",
    "\n",
    "    * prefix: prefix ix nothing but a string that needs to be checked.\n",
    "    * start: Starting position where prefix is needed to be checked within the string.\n",
    "    * end: Ending position where prefix is needed to be checked within the string.\n",
    "* Return:  \n",
    "    * Returns True if strings start with the given prefix otherwise returns False."
   ]
  },
  {
   "cell_type": "markdown",
   "id": "edac046e",
   "metadata": {},
   "source": [
    "![](https://datascienceparichay.com/wp-content/uploads/2020/09/python-string-startswith.png.webp)"
   ]
  },
  {
   "cell_type": "code",
   "execution_count": 68,
   "id": "eeaa7ec8",
   "metadata": {},
   "outputs": [
    {
     "name": "stdout",
     "output_type": "stream",
     "text": [
      "Help on method_descriptor:\n",
      "\n",
      "startswith(...)\n",
      "    S.startswith(prefix[, start[, end]]) -> bool\n",
      "    \n",
      "    Return True if S starts with the specified prefix, False otherwise.\n",
      "    With optional start, test S beginning at that position.\n",
      "    With optional end, stop comparing S at that position.\n",
      "    prefix can also be a tuple of strings to try.\n",
      "\n"
     ]
    }
   ],
   "source": [
    "help(str.startswith)"
   ]
  },
  {
   "cell_type": "code",
   "execution_count": 69,
   "id": "3065110f",
   "metadata": {},
   "outputs": [
    {
     "name": "stdout",
     "output_type": "stream",
     "text": [
      "True\n"
     ]
    }
   ],
   "source": [
    "x = \"Hello, welcome to my world.\"\n",
    "\n",
    "y = x.startswith(\"Hello\")\n",
    "\n",
    "print(y)"
   ]
  },
  {
   "cell_type": "code",
   "execution_count": 70,
   "id": "522c894b",
   "metadata": {},
   "outputs": [
    {
     "name": "stdout",
     "output_type": "stream",
     "text": [
      "False\n"
     ]
    }
   ],
   "source": [
    "x = \"Hello, welcome to my world.\"\n",
    "\n",
    "y = x.startswith(\"to\")\n",
    "\n",
    "print(y)"
   ]
  },
  {
   "cell_type": "markdown",
   "id": "27d31e22",
   "metadata": {},
   "source": [
    "## 41. strip()"
   ]
  },
  {
   "cell_type": "markdown",
   "id": "311100c8",
   "metadata": {},
   "source": [
    "* Python String strip() is an inbuilt function in the Python programming language that returns a copy of the string with both leading and trailing characters removed (based on the string argument passed)."
   ]
  },
  {
   "cell_type": "markdown",
   "id": "ba32c2a7",
   "metadata": {},
   "source": [
    "* Syntax: \n",
    "    * string.strip([chars])\n",
    "\n",
    "* Parameter:\n",
    "    * There is only one optional parameter in it. chars – a string specifying the set of characters to be removed. If the optional chars parameter is not given, all leading and trailing whitespaces are removed from the string.\n",
    "\n",
    "* Return Value:\n",
    "    * Returns a copy of the string with both leading and trailing characters removed."
   ]
  },
  {
   "cell_type": "markdown",
   "id": "a2ffc9a0",
   "metadata": {},
   "source": [
    "![](https://www.tutlane.com/images/python/python_string_strip_method.png)"
   ]
  },
  {
   "cell_type": "code",
   "execution_count": 73,
   "id": "29d7aca8",
   "metadata": {},
   "outputs": [
    {
     "name": "stdout",
     "output_type": "stream",
     "text": [
      "Help on method_descriptor:\n",
      "\n",
      "strip(self, chars=None, /)\n",
      "    Return a copy of the string with leading and trailing whitespace removed.\n",
      "    \n",
      "    If chars is given and not None, remove characters in chars instead.\n",
      "\n"
     ]
    }
   ],
   "source": [
    "help(str.strip)"
   ]
  },
  {
   "cell_type": "code",
   "execution_count": 7,
   "id": "6d681073",
   "metadata": {},
   "outputs": [
    {
     "name": "stdout",
     "output_type": "stream",
     "text": [
      "harsh\n"
     ]
    }
   ],
   "source": [
    "x = '      harsh      '\n",
    "\n",
    "y = x.strip()\n",
    "\n",
    "print(y)"
   ]
  },
  {
   "cell_type": "code",
   "execution_count": 76,
   "id": "058261d2",
   "metadata": {},
   "outputs": [
    {
     "name": "stdout",
     "output_type": "stream",
     "text": [
      "malayalam\n"
     ]
    }
   ],
   "source": [
    "x = '!@#malayalam#@!'\n",
    "\n",
    "y = x.strip('#!@')\n",
    "\n",
    "print(y)"
   ]
  },
  {
   "cell_type": "markdown",
   "id": "7c75dd17",
   "metadata": {},
   "source": [
    "## 42. swapcase()"
   ]
  },
  {
   "cell_type": "markdown",
   "id": "eacc9ed4",
   "metadata": {},
   "source": [
    "* Python String swapcase() method converts all uppercase characters to lowercase and vice versa of the given string and returns it."
   ]
  },
  {
   "cell_type": "markdown",
   "id": "97e1b198",
   "metadata": {},
   "source": [
    "\n",
    "* Syntax: \n",
    "\n",
    "    * string_name.swapcase()  \n",
    "\n",
    "* Parameter: \n",
    "    * The swapcase() method does not take any parameter.\n",
    "\n",
    "* Return Value: \n",
    "\n",
    "    * The swapcase() method returns a string with all the cases changed. "
   ]
  },
  {
   "cell_type": "markdown",
   "id": "4c2c988f",
   "metadata": {},
   "source": [
    "![](https://www.tutlane.com/images/python/python_string_swapcase_method.png)"
   ]
  },
  {
   "cell_type": "code",
   "execution_count": 77,
   "id": "85df3612",
   "metadata": {},
   "outputs": [
    {
     "name": "stdout",
     "output_type": "stream",
     "text": [
      "Help on method_descriptor:\n",
      "\n",
      "swapcase(self, /)\n",
      "    Convert uppercase characters to lowercase and lowercase characters to uppercase.\n",
      "\n"
     ]
    }
   ],
   "source": [
    "help(str.swapcase)"
   ]
  },
  {
   "cell_type": "code",
   "execution_count": 78,
   "id": "25f3fedb",
   "metadata": {},
   "outputs": [
    {
     "name": "stdout",
     "output_type": "stream",
     "text": [
      "pYTHON iS a pROGRAMMING lANGUAGE\n"
     ]
    }
   ],
   "source": [
    "x = 'Python Is A Programming Language'\n",
    "\n",
    "y = x.swapcase()\n",
    "\n",
    "print(y)"
   ]
  },
  {
   "cell_type": "code",
   "execution_count": 79,
   "id": "15feb586",
   "metadata": {},
   "outputs": [
    {
     "name": "stdout",
     "output_type": "stream",
     "text": [
      "HaRsHiT\n"
     ]
    }
   ],
   "source": [
    "x = 'hArShIt'\n",
    "\n",
    "y = x.swapcase()\n",
    "\n",
    "print(y)"
   ]
  },
  {
   "cell_type": "markdown",
   "id": "2093ebb1",
   "metadata": {},
   "source": [
    "## 43. title()"
   ]
  },
  {
   "cell_type": "markdown",
   "id": "624aca89",
   "metadata": {},
   "source": [
    "* This title() method changes first alphabet of every word will convert into capital letter."
   ]
  },
  {
   "cell_type": "markdown",
   "id": "f5ceb353",
   "metadata": {},
   "source": [
    "* Syntax:\n",
    "    * str.title()\n",
    "\n",
    "* parameters: \n",
    "    * title() doesn’t accept any parameter.\n",
    "\n",
    "* Return: \n",
    "    * str, converted to title case\n",
    "\n"
   ]
  },
  {
   "cell_type": "markdown",
   "id": "2a56805d",
   "metadata": {},
   "source": [
    "![](https://www.tutlane.com/images/python/python_string_title_method.png)"
   ]
  },
  {
   "cell_type": "code",
   "execution_count": 80,
   "id": "57a79129",
   "metadata": {},
   "outputs": [
    {
     "name": "stdout",
     "output_type": "stream",
     "text": [
      "Help on method_descriptor:\n",
      "\n",
      "title(self, /)\n",
      "    Return a version of the string where each word is titlecased.\n",
      "    \n",
      "    More specifically, words start with uppercased characters and all remaining\n",
      "    cased characters have lower case.\n",
      "\n"
     ]
    }
   ],
   "source": [
    "help(str.title)"
   ]
  },
  {
   "cell_type": "code",
   "execution_count": 81,
   "id": "69a1a542",
   "metadata": {},
   "outputs": [
    {
     "name": "stdout",
     "output_type": "stream",
     "text": [
      "My Name Is Harsh\n"
     ]
    }
   ],
   "source": [
    "x = \"my name is harsh\"\n",
    "\n",
    "y = x.title()\n",
    "\n",
    "print(y)"
   ]
  },
  {
   "cell_type": "code",
   "execution_count": 82,
   "id": "60ecd63a",
   "metadata": {},
   "outputs": [
    {
     "name": "stdout",
     "output_type": "stream",
     "text": [
      "Python Is A Programming Language\n"
     ]
    }
   ],
   "source": [
    "x = 'python is a programming language'\n",
    "\n",
    "y = x.title()\n",
    "\n",
    "print(y)"
   ]
  },
  {
   "cell_type": "markdown",
   "id": "dd5b95ee",
   "metadata": {},
   "source": [
    "## 44. upper()"
   ]
  },
  {
   "cell_type": "markdown",
   "id": "c31b8c94",
   "metadata": {},
   "source": [
    "* This upper() method changes all the characters in a string to capital letters."
   ]
  },
  {
   "cell_type": "markdown",
   "id": "91924d22",
   "metadata": {},
   "source": [
    "* Syntax:\n",
    "    * string.upper()\n",
    "\n",
    "* Parameters: \n",
    "    * The upper() method doesn’t take any parameters. \n",
    "\n",
    "* Returns: \n",
    "    * returns an uppercased string of the given string.\n",
    "\n"
   ]
  },
  {
   "cell_type": "markdown",
   "id": "4a3a6c26",
   "metadata": {},
   "source": [
    "![](https://www.tutlane.com/images/python/python_string_upper_method.png)"
   ]
  },
  {
   "cell_type": "code",
   "execution_count": 83,
   "id": "0e5ff52c",
   "metadata": {},
   "outputs": [
    {
     "name": "stdout",
     "output_type": "stream",
     "text": [
      "Help on method_descriptor:\n",
      "\n",
      "upper(self, /)\n",
      "    Return a copy of the string converted to uppercase.\n",
      "\n"
     ]
    }
   ],
   "source": [
    "help(str.upper)"
   ]
  },
  {
   "cell_type": "code",
   "execution_count": 84,
   "id": "c6de6d66",
   "metadata": {},
   "outputs": [
    {
     "name": "stdout",
     "output_type": "stream",
     "text": [
      "MY NAME IS HARSH\n"
     ]
    }
   ],
   "source": [
    "x = \"my name is harsh\"\n",
    "\n",
    "y = x.upper()\n",
    "\n",
    "print(y)"
   ]
  },
  {
   "cell_type": "code",
   "execution_count": 85,
   "id": "6b94f51e",
   "metadata": {},
   "outputs": [
    {
     "name": "stdout",
     "output_type": "stream",
     "text": [
      "PYTHON IS A PROGRAMMING LANGUAGE\n"
     ]
    }
   ],
   "source": [
    "x = 'python is a programming language'\n",
    "\n",
    "y = x.upper()\n",
    "\n",
    "print(y)"
   ]
  },
  {
   "cell_type": "markdown",
   "id": "69ef8e2f",
   "metadata": {},
   "source": [
    "## 45. zfill()"
   ]
  },
  {
   "cell_type": "markdown",
   "id": "1a16cb9b",
   "metadata": {},
   "source": [
    "* Python String zfill() method returns a copy of the string with ‘0’ characters padded to the left side of the given string."
   ]
  },
  {
   "cell_type": "markdown",
   "id": "c42ce09b",
   "metadata": {},
   "source": [
    "\n",
    "* Syntax: \n",
    "    * str.zfill(length)\n",
    "\n",
    "* Parameters: \n",
    "    * length: length is the length of the returned string from zfill() with ‘0’ digits filled to the leftside. \n",
    "\n",
    "* Return:\n",
    "    * Returns a copy of the string with ‘0’ characters padded to the left side of the given string."
   ]
  },
  {
   "cell_type": "markdown",
   "id": "e61800b6",
   "metadata": {},
   "source": [
    "![](https://www.codingem.com/wp-content/uploads/2022/11/zfill.002-1-1024x576.jpeg)"
   ]
  },
  {
   "cell_type": "code",
   "execution_count": 86,
   "id": "fe926972",
   "metadata": {},
   "outputs": [
    {
     "name": "stdout",
     "output_type": "stream",
     "text": [
      "Help on method_descriptor:\n",
      "\n",
      "zfill(self, width, /)\n",
      "    Pad a numeric string with zeros on the left, to fill a field of the given width.\n",
      "    \n",
      "    The string is never truncated.\n",
      "\n"
     ]
    }
   ],
   "source": [
    "help(str.zfill)"
   ]
  },
  {
   "cell_type": "code",
   "execution_count": 87,
   "id": "42d02e89",
   "metadata": {},
   "outputs": [
    {
     "name": "stdout",
     "output_type": "stream",
     "text": [
      "0000000050\n"
     ]
    }
   ],
   "source": [
    "x = \"50\"\n",
    "\n",
    "y = x.zfill(10)\n",
    "\n",
    "print(y)"
   ]
  },
  {
   "cell_type": "code",
   "execution_count": 88,
   "id": "47daeb06",
   "metadata": {},
   "outputs": [
    {
     "name": "stdout",
     "output_type": "stream",
     "text": [
      "00000Harsh\n"
     ]
    }
   ],
   "source": [
    "x = \"Harsh\"\n",
    "\n",
    "y = x.zfill(10)\n",
    "\n",
    "print(y)"
   ]
  },
  {
   "cell_type": "code",
   "execution_count": null,
   "id": "59dfb0ec",
   "metadata": {},
   "outputs": [],
   "source": []
  }
 ],
 "metadata": {
  "kernelspec": {
   "display_name": "Python 3 (ipykernel)",
   "language": "python",
   "name": "python3"
  },
  "language_info": {
   "codemirror_mode": {
    "name": "ipython",
    "version": 3
   },
   "file_extension": ".py",
   "mimetype": "text/x-python",
   "name": "python",
   "nbconvert_exporter": "python",
   "pygments_lexer": "ipython3",
   "version": "3.11.5"
  }
 },
 "nbformat": 4,
 "nbformat_minor": 5
}
